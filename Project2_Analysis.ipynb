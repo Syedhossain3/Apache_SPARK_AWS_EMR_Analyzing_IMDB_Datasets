{
 "cells": [
  {
   "cell_type": "markdown",
   "id": "73bc9548",
   "metadata": {},
   "source": [
    "# Analysis of IMDB Data"
   ]
  },
  {
   "cell_type": "markdown",
   "id": "4b3da555",
   "metadata": {},
   "source": [
    "We will analyze a subset of IMDB's actors, genres, movie actors, and movie ratings data. This dataset comes to us from Kaggle (https://www.kaggle.com/datasets/ashirwadsangwan/imdb-dataset) although we have taken steps to pull this data into a publis s3 bucket: \n",
    "\n",
    "* s3://cis9760-lecture9-movieanalysis/name.basics.tsv ---> (actors)\n",
    "* s3://cis9760-lecture9-movieanalysis/title.basics.tsv ---> (genres)\n",
    "* s3://cis9760-lecture9-movieanalysis/title.principals.tsv ---> (movie actors)\n",
    "* s3://cis9760-lecture9-movieanalysis/title.ratings.tsv ---> (movie ratings)"
   ]
  },
  {
   "cell_type": "markdown",
   "id": "bfb57a80",
   "metadata": {},
   "source": [
    "# Content\n",
    "\n",
    "**<br />name.basics.tsv.gz – Contains the following information for names:**\n",
    "<br />nconst (string) - alphanumeric unique identifier of the name/person.\n",
    "<br />primaryName (string)– name by which the person is most often credited.\n",
    "<br />birthYear – in YYYY format.\n",
    "<br />deathYear – in YYYY format if applicable, else .\n",
    "<br />primaryProfession (array of strings)– the top-3 professions of the person.\n",
    "<br />knownForTitles (array of tconsts) – titles the person is known for.\n",
    "<br/><br/>\n",
    "**<br />title.basics.tsv.gz - Contains the following information for titles:**\n",
    "<br />tconst (string) - alphanumeric unique identifier of the title.\n",
    "<br />titleType (string) – the type/format of the title (e.g. movie, short, tvseries, tvepisode, video, etc).\n",
    "<br />primaryTitle (string) – the more popular title / the title used by the filmmakers on promotional materials at the point of release.\n",
    "<br />originalTitle (string) - original title, in the original language.\n",
    "<br />isAdult (boolean) - 0: non-adult title; 1: adult title.\n",
    "<br />startYear (YYYY) – represents the release year of a title. In the case of TV Series, it is the series start year.\n",
    "<br />endYear (YYYY) – TV Series end year. for all other title types.\n",
    "<br />runtimeMinutes – primary runtime of the title, in minutes.\n",
    "<br />genres (string array) – includes up to three genres associated with the title.\n",
    "<br/><br/>\n",
    "**<br />title.principals.tsv – Contains the principal cast/crew for titles:**\n",
    "<br />tconst (string) - alphanumeric unique identifier of the title.\n",
    "<br />ordering (integer) – a number to uniquely identify rows for a given titleId.\n",
    "<br />nconst (string) - alphanumeric unique identifier of the name/person.\n",
    "<br />category (string) - the category of job that person was in.\n",
    "<br />job (string) - the specific job title if applicable, else.\n",
    "<br />characters (string) - the name of the character played if applicable, else.\n",
    "<br/><br/>\n",
    "**<br />title.ratings.tsv.gz – Contains the IMDb rating and votes information for titles:**\n",
    "<br />tconst (string) - alphanumeric unique identifier of the title.\n",
    "<br />averageRating – weighted average of all the individual user ratings.\n",
    "<br />numVotes - number of votes the title has received."
   ]
  },
  {
   "cell_type": "markdown",
   "id": "0a6597bc",
   "metadata": {},
   "source": [
    "# PART 1 - Installation and Initial Setup"
   ]
  },
  {
   "cell_type": "markdown",
   "id": "ef17e1b3",
   "metadata": {},
   "source": [
    "Begin by installing the necessary libraries that you may need to conduct your analysis. At the very least, you must install pandas and matplotlib"
   ]
  },
  {
   "cell_type": "code",
   "execution_count": 1,
   "id": "14c34d99",
   "metadata": {
    "execution": {
     "iopub.execute_input": "2022-11-21T02:54:36.199695Z",
     "iopub.status.busy": "2022-11-21T02:54:36.199386Z",
     "iopub.status.idle": "2022-11-21T02:55:02.673100Z",
     "shell.execute_reply": "2022-11-21T02:55:02.671897Z",
     "shell.execute_reply.started": "2022-11-21T02:54:36.199669Z"
    },
    "tags": []
   },
   "outputs": [
    {
     "data": {
      "text/html": [
       "Current session configs: <tt>{'conf': {'spark.pyspark.python': 'python3', 'spark.pyspark.virtualenv.enabled': 'true', 'spark.pyspark.virtualenv.bin.path': '/usr/bin/virtualenv', 'spark.pyspark.virtualenv.type': 'native', 'spark.dynamicAllocation.enabled': 'true', 'spark.shuffle.service.enabled': 'true', 'spark.dynamicAllocation.minExecutors': '8', 'spark.sql.sources.partitionOverwriteMode': 'dynamic', 'spark.sql.legacy.allowCreatingManagedTableUsingNonemptyLocation': 'true'}, 'kind': 'pyspark'}</tt><br>"
      ],
      "text/plain": [
       "<IPython.core.display.HTML object>"
      ]
     },
     "metadata": {},
     "output_type": "display_data"
    },
    {
     "data": {
      "text/html": [
       "No active sessions."
      ],
      "text/plain": [
       "<IPython.core.display.HTML object>"
      ]
     },
     "metadata": {},
     "output_type": "display_data"
    }
   ],
   "source": [
    "%%configure -f\n",
    "{ \"conf\":{\n",
    "    \"spark.pyspark.python\": \"python3\",\n",
    "    \"spark.pyspark.virtualenv.enabled\": \"true\",\n",
    "    \"spark.pyspark.virtualenv.bin.path\":\"/usr/bin/virtualenv\",\n",
    "    \"spark.pyspark.virtualenv.type\":\"native\",\n",
    "    \"spark.dynamicAllocation.enabled\":\"true\",\n",
    "    \"spark.shuffle.service.enabled\":\"true\",\n",
    "    \"spark.dynamicAllocation.minExecutors\":\"8\",\n",
    "    \"spark.sql.sources.partitionOverwriteMode\":\"dynamic\",\n",
    "    \"spark.sql.legacy.allowCreatingManagedTableUsingNonemptyLocation\":\"true\"\n",
    "}\n",
    "}\n"
   ]
  },
  {
   "cell_type": "code",
   "execution_count": 2,
   "id": "5a20c821",
   "metadata": {
    "execution": {
     "iopub.execute_input": "2022-11-21T02:59:28.047048Z",
     "iopub.status.busy": "2022-11-21T02:59:28.046663Z",
     "iopub.status.idle": "2022-11-21T02:59:47.793136Z",
     "shell.execute_reply": "2022-11-21T02:59:47.791980Z",
     "shell.execute_reply.started": "2022-11-21T02:59:28.047003Z"
    },
    "scrolled": true,
    "tags": []
   },
   "outputs": [
    {
     "data": {
      "application/vnd.jupyter.widget-view+json": {
       "model_id": "8522a26a7dc646698afe3a74547f152e",
       "version_major": 2,
       "version_minor": 0
      },
      "text/plain": [
       "VBox()"
      ]
     },
     "metadata": {},
     "output_type": "display_data"
    },
    {
     "name": "stdout",
     "output_type": "stream",
     "text": [
      "Starting Spark application\n"
     ]
    },
    {
     "data": {
      "text/html": [
       "<table>\n",
       "<tr><th>ID</th><th>YARN Application ID</th><th>Kind</th><th>State</th><th>Spark UI</th><th>Driver log</th><th>Current session?</th></tr><tr><td>2</td><td>application_1669607535363_0003</td><td>pyspark</td><td>idle</td><td><a target=\"_blank\" href=\"http://ip-172-31-2-126.us-east-2.compute.internal:20888/proxy/application_1669607535363_0003/\">Link</a></td><td><a target=\"_blank\" href=\"http://ip-172-31-2-232.us-east-2.compute.internal:8042/node/containerlogs/container_1669607535363_0003_01_000001/livy\">Link</a></td><td>✔</td></tr></table>"
      ],
      "text/plain": [
       "<IPython.core.display.HTML object>"
      ]
     },
     "metadata": {},
     "output_type": "display_data"
    },
    {
     "data": {
      "application/vnd.jupyter.widget-view+json": {
       "model_id": "",
       "version_major": 2,
       "version_minor": 0
      },
      "text/plain": [
       "FloatProgress(value=0.0, bar_style='info', description='Progress:', layout=Layout(height='25px', width='50%'),…"
      ]
     },
     "metadata": {},
     "output_type": "display_data"
    },
    {
     "name": "stdout",
     "output_type": "stream",
     "text": [
      "SparkSession available as 'spark'.\n"
     ]
    },
    {
     "data": {
      "application/vnd.jupyter.widget-view+json": {
       "model_id": "",
       "version_major": 2,
       "version_minor": 0
      },
      "text/plain": [
       "FloatProgress(value=0.0, bar_style='info', description='Progress:', layout=Layout(height='25px', width='50%'),…"
      ]
     },
     "metadata": {},
     "output_type": "display_data"
    },
    {
     "name": "stdout",
     "output_type": "stream",
     "text": [
      "Collecting matplotlib==3.2.1\n",
      "  Using cached https://files.pythonhosted.org/packages/b2/c2/71fcf957710f3ba1f09088b35776a799ba7dd95f7c2b195ec800933b276b/matplotlib-3.2.1-cp37-cp37m-manylinux1_x86_64.whl\n",
      "Collecting python-dateutil>=2.1 (from matplotlib==3.2.1)\n",
      "  Using cached https://files.pythonhosted.org/packages/36/7a/87837f39d0296e723bb9b62bbb257d0355c7f6128853c78955f57342a56d/python_dateutil-2.8.2-py2.py3-none-any.whl\n",
      "Collecting pyparsing!=2.0.4,!=2.1.2,!=2.1.6,>=2.0.1 (from matplotlib==3.2.1)\n",
      "  Using cached https://files.pythonhosted.org/packages/6c/10/a7d0fa5baea8fe7b50f448ab742f26f52b80bfca85ac2be9d35cdd9a3246/pyparsing-3.0.9-py3-none-any.whl\n",
      "Collecting cycler>=0.10 (from matplotlib==3.2.1)\n",
      "  Using cached https://files.pythonhosted.org/packages/5c/f9/695d6bedebd747e5eb0fe8fad57b72fdf25411273a39791cde838d5a8f51/cycler-0.11.0-py3-none-any.whl\n",
      "Requirement already satisfied: numpy>=1.11 in /usr/local/lib64/python3.7/site-packages (from matplotlib==3.2.1)\n",
      "Collecting kiwisolver>=1.0.1 (from matplotlib==3.2.1)\n",
      "  Using cached https://files.pythonhosted.org/packages/ab/8f/8dbe2d4efc4c0b08ec67d6efb7cc31fbfd688c80afad85f65980633b0d37/kiwisolver-1.4.4-cp37-cp37m-manylinux_2_5_x86_64.manylinux1_x86_64.whl\n",
      "Requirement already satisfied: six>=1.5 in /usr/local/lib/python3.7/site-packages (from python-dateutil>=2.1->matplotlib==3.2.1)\n",
      "Collecting typing-extensions; python_version < \"3.8\" (from kiwisolver>=1.0.1->matplotlib==3.2.1)\n",
      "  Using cached https://files.pythonhosted.org/packages/0b/8e/f1a0a5a76cfef77e1eb6004cb49e5f8d72634da638420b9ea492ce8305e8/typing_extensions-4.4.0-py3-none-any.whl\n",
      "Installing collected packages: python-dateutil, pyparsing, cycler, typing-extensions, kiwisolver, matplotlib\n",
      "Successfully installed cycler-0.11.0 kiwisolver-1.4.4 matplotlib-3.2.1 pyparsing-3.0.9 python-dateutil-2.8.2 typing-extensions-4.4.0\n",
      "\n",
      "Collecting pandas==1.0.3\n",
      "  Using cached https://files.pythonhosted.org/packages/4a/6a/94b219b8ea0f2d580169e85ed1edc0163743f55aaeca8a44c2e8fc1e344e/pandas-1.0.3-cp37-cp37m-manylinux1_x86_64.whl\n",
      "Requirement already satisfied: pytz>=2017.2 in /usr/local/lib/python3.7/site-packages (from pandas==1.0.3)\n",
      "Requirement already satisfied: numpy>=1.13.3 in /usr/local/lib64/python3.7/site-packages (from pandas==1.0.3)\n",
      "Requirement already satisfied: python-dateutil>=2.6.1 in /mnt/tmp/1669609599812-0/lib/python3.7/site-packages (from pandas==1.0.3)\n",
      "Requirement already satisfied: six>=1.5 in /usr/local/lib/python3.7/site-packages (from python-dateutil>=2.6.1->pandas==1.0.3)\n",
      "Installing collected packages: pandas\n",
      "Successfully installed pandas-1.0.3"
     ]
    }
   ],
   "source": [
    "\n",
    "sc.install_pypi_package(\"matplotlib==3.2.1\")\n",
    "sc.install_pypi_package(\"pandas==1.0.3\")\n",
    "# sc.install_pypi_package(\"seaborn\")"
   ]
  },
  {
   "cell_type": "markdown",
   "id": "e0baad00",
   "metadata": {},
   "source": [
    "Let's install the necessary packages here"
   ]
  },
  {
   "cell_type": "markdown",
   "id": "92f337f1",
   "metadata": {},
   "source": [
    "Now, import the installed packages from the previous block below."
   ]
  },
  {
   "cell_type": "code",
   "execution_count": 3,
   "id": "b527ed37",
   "metadata": {
    "execution": {
     "iopub.execute_input": "2022-11-21T04:24:10.410861Z",
     "iopub.status.busy": "2022-11-21T04:24:10.410514Z",
     "iopub.status.idle": "2022-11-21T04:24:10.691029Z",
     "shell.execute_reply": "2022-11-21T04:24:10.689743Z",
     "shell.execute_reply.started": "2022-11-21T04:24:10.410829Z"
    },
    "tags": []
   },
   "outputs": [
    {
     "data": {
      "application/vnd.jupyter.widget-view+json": {
       "model_id": "8c94b4b0867d466f9459ae7548d14963",
       "version_major": 2,
       "version_minor": 0
      },
      "text/plain": [
       "VBox()"
      ]
     },
     "metadata": {},
     "output_type": "display_data"
    },
    {
     "data": {
      "application/vnd.jupyter.widget-view+json": {
       "model_id": "",
       "version_major": 2,
       "version_minor": 0
      },
      "text/plain": [
       "FloatProgress(value=0.0, bar_style='info', description='Progress:', layout=Layout(height='25px', width='50%'),…"
      ]
     },
     "metadata": {},
     "output_type": "display_data"
    }
   ],
   "source": [
    "import pandas as pd\n",
    "import matplotlib.pyplot as plt\n",
    "from pyspark.sql.functions import mean, stddev, col, abs, split, explode, round\n",
    "from pyspark.sql import functions as F"
   ]
  },
  {
   "cell_type": "markdown",
   "id": "9b2f109d",
   "metadata": {},
   "source": [
    "# Loading Data"
   ]
  },
  {
   "cell_type": "markdown",
   "id": "966aba52",
   "metadata": {},
   "source": [
    "Load all data from S3 into a Spark dataframe object "
   ]
  },
  {
   "cell_type": "code",
   "execution_count": 4,
   "id": "f5074486",
   "metadata": {
    "execution": {
     "iopub.execute_input": "2022-11-21T04:24:12.922161Z",
     "iopub.status.busy": "2022-11-21T04:24:12.921774Z",
     "iopub.status.idle": "2022-11-21T04:24:14.454450Z",
     "shell.execute_reply": "2022-11-21T04:24:14.452305Z",
     "shell.execute_reply.started": "2022-11-21T04:24:12.922126Z"
    },
    "scrolled": true,
    "tags": []
   },
   "outputs": [
    {
     "data": {
      "application/vnd.jupyter.widget-view+json": {
       "model_id": "9e58415fdabb482896938a50c15b45df",
       "version_major": 2,
       "version_minor": 0
      },
      "text/plain": [
       "VBox()"
      ]
     },
     "metadata": {},
     "output_type": "display_data"
    },
    {
     "data": {
      "application/vnd.jupyter.widget-view+json": {
       "model_id": "",
       "version_major": 2,
       "version_minor": 0
      },
      "text/plain": [
       "FloatProgress(value=0.0, bar_style='info', description='Progress:', layout=Layout(height='25px', width='50%'),…"
      ]
     },
     "metadata": {},
     "output_type": "display_data"
    }
   ],
   "source": [
    "actors = spark.read.csv('s3://cis9760-lecture9-movieanalysis/name.basics.tsv', sep=r'\\t', header=True)\n",
    "genres = spark.read.csv('s3://cis9760-lecture9-movieanalysis/title.basics.tsv', sep=r'\\t', header=True)\n",
    "movie_actors = spark.read.csv('s3://cis9760-lecture9-movieanalysis/title.principals.tsv', sep=r'\\t', header=True)\n",
    "movie_ratings = spark.read.csv('s3://cis9760-lecture9-movieanalysis/title.ratings.tsv', sep=r'\\t', header=True)"
   ]
  },
  {
   "cell_type": "markdown",
   "id": "765abec6",
   "metadata": {},
   "source": [
    "## Actors"
   ]
  },
  {
   "cell_type": "markdown",
   "id": "6bd08dc9",
   "metadata": {},
   "source": [
    "Display the schema below:"
   ]
  },
  {
   "cell_type": "code",
   "execution_count": 5,
   "id": "1eecdfcb",
   "metadata": {
    "execution": {
     "iopub.execute_input": "2022-11-21T04:24:14.457128Z",
     "iopub.status.busy": "2022-11-21T04:24:14.456376Z",
     "iopub.status.idle": "2022-11-21T04:24:17.217405Z",
     "shell.execute_reply": "2022-11-21T04:24:17.216250Z",
     "shell.execute_reply.started": "2022-11-21T04:24:14.457086Z"
    },
    "tags": []
   },
   "outputs": [
    {
     "data": {
      "application/vnd.jupyter.widget-view+json": {
       "model_id": "5fe3dbfc772242d8a634bda91a4bfab4",
       "version_major": 2,
       "version_minor": 0
      },
      "text/plain": [
       "VBox()"
      ]
     },
     "metadata": {},
     "output_type": "display_data"
    },
    {
     "data": {
      "application/vnd.jupyter.widget-view+json": {
       "model_id": "",
       "version_major": 2,
       "version_minor": 0
      },
      "text/plain": [
       "FloatProgress(value=0.0, bar_style='info', description='Progress:', layout=Layout(height='25px', width='50%'),…"
      ]
     },
     "metadata": {},
     "output_type": "display_data"
    },
    {
     "name": "stdout",
     "output_type": "stream",
     "text": [
      "root\n",
      " |-- nconst: string (nullable = true)\n",
      " |-- primaryName: string (nullable = true)\n",
      " |-- birthYear: string (nullable = true)\n",
      " |-- deathYear: string (nullable = true)\n",
      " |-- primaryProfession: string (nullable = true)\n",
      " |-- knownForTitles: string (nullable = true)\n",
      "\n",
      "+---------+---------------+---------+---------+--------------------+--------------------+\n",
      "|   nconst|    primaryName|birthYear|deathYear|   primaryProfession|      knownForTitles|\n",
      "+---------+---------------+---------+---------+--------------------+--------------------+\n",
      "|nm0000001|   Fred Astaire|     1899|     1987|soundtrack,actor,...|tt0050419,tt00531...|\n",
      "|nm0000002|  Lauren Bacall|     1924|     2014|  actress,soundtrack|tt0071877,tt01170...|\n",
      "|nm0000003|Brigitte Bardot|     1934|       \\N|actress,soundtrac...|tt0054452,tt00491...|\n",
      "|nm0000004|   John Belushi|     1949|     1982|actor,writer,soun...|tt0077975,tt00725...|\n",
      "|nm0000005| Ingmar Bergman|     1918|     2007|writer,director,a...|tt0069467,tt00509...|\n",
      "|nm0000006| Ingrid Bergman|     1915|     1982|actress,soundtrac...|tt0038109,tt00368...|\n",
      "|nm0000007|Humphrey Bogart|     1899|     1957|actor,soundtrack,...|tt0043265,tt00338...|\n",
      "|nm0000008|  Marlon Brando|     1924|     2004|actor,soundtrack,...|tt0070849,tt00787...|\n",
      "|nm0000009| Richard Burton|     1925|     1984|actor,producer,so...|tt0057877,tt00878...|\n",
      "|nm0000010|   James Cagney|     1899|     1986|actor,soundtrack,...|tt0035575,tt00318...|\n",
      "+---------+---------------+---------+---------+--------------------+--------------------+\n",
      "only showing top 10 rows\n",
      "\n",
      "9706922"
     ]
    }
   ],
   "source": [
    "actors.printSchema()\n",
    "actors.show(10)\n",
    "actors.count()"
   ]
  },
  {
   "cell_type": "markdown",
   "id": "64a82266",
   "metadata": {},
   "source": [
    "Display the first 5 rows with the following columns:\n",
    "\n",
    "* `primaryName`\n",
    "* `birthYear`\n",
    "* `deathYear`\n",
    "* `knownForTitles`"
   ]
  },
  {
   "cell_type": "code",
   "execution_count": 6,
   "id": "e5d925ee",
   "metadata": {
    "execution": {
     "iopub.execute_input": "2022-11-21T04:24:17.220485Z",
     "iopub.status.busy": "2022-11-21T04:24:17.219750Z",
     "iopub.status.idle": "2022-11-21T04:24:17.683680Z",
     "shell.execute_reply": "2022-11-21T04:24:17.682728Z",
     "shell.execute_reply.started": "2022-11-21T04:24:17.220443Z"
    },
    "tags": []
   },
   "outputs": [
    {
     "data": {
      "application/vnd.jupyter.widget-view+json": {
       "model_id": "7b612b3248814c61ac060ef995bcda65",
       "version_major": 2,
       "version_minor": 0
      },
      "text/plain": [
       "VBox()"
      ]
     },
     "metadata": {},
     "output_type": "display_data"
    },
    {
     "data": {
      "application/vnd.jupyter.widget-view+json": {
       "model_id": "",
       "version_major": 2,
       "version_minor": 0
      },
      "text/plain": [
       "FloatProgress(value=0.0, bar_style='info', description='Progress:', layout=Layout(height='25px', width='50%'),…"
      ]
     },
     "metadata": {},
     "output_type": "display_data"
    },
    {
     "name": "stdout",
     "output_type": "stream",
     "text": [
      "+---------------+---------+---------+--------------------+\n",
      "|    primaryName|birthYear|deathYear|      knownForTitles|\n",
      "+---------------+---------+---------+--------------------+\n",
      "|   Fred Astaire|     1899|     1987|tt0050419,tt00531...|\n",
      "|  Lauren Bacall|     1924|     2014|tt0071877,tt01170...|\n",
      "|Brigitte Bardot|     1934|       \\N|tt0054452,tt00491...|\n",
      "|   John Belushi|     1949|     1982|tt0077975,tt00725...|\n",
      "| Ingmar Bergman|     1918|     2007|tt0069467,tt00509...|\n",
      "+---------------+---------+---------+--------------------+\n",
      "only showing top 5 rows"
     ]
    }
   ],
   "source": [
    "actors.select(\"primaryName\", \"birthYear\", \"deathYear\", \"knownForTitles\").show(5)"
   ]
  },
  {
   "cell_type": "markdown",
   "id": "51442d1c",
   "metadata": {},
   "source": [
    "## Genres"
   ]
  },
  {
   "cell_type": "markdown",
   "id": "0c2b583c",
   "metadata": {},
   "source": [
    "Display the first 10 rows with the following columns:\n",
    "    \n",
    "* `titleType`\n",
    "* `primaryTitle`\n",
    "* `genres`"
   ]
  },
  {
   "cell_type": "code",
   "execution_count": 7,
   "id": "391cdac2",
   "metadata": {
    "execution": {
     "iopub.execute_input": "2022-11-21T04:24:17.692042Z",
     "iopub.status.busy": "2022-11-21T04:24:17.685319Z",
     "iopub.status.idle": "2022-11-21T04:24:18.293511Z",
     "shell.execute_reply": "2022-11-21T04:24:18.292418Z",
     "shell.execute_reply.started": "2022-11-21T04:24:17.691988Z"
    },
    "tags": []
   },
   "outputs": [
    {
     "data": {
      "application/vnd.jupyter.widget-view+json": {
       "model_id": "4eab6c49ae334be388242191884bfc6e",
       "version_major": 2,
       "version_minor": 0
      },
      "text/plain": [
       "VBox()"
      ]
     },
     "metadata": {},
     "output_type": "display_data"
    },
    {
     "data": {
      "application/vnd.jupyter.widget-view+json": {
       "model_id": "",
       "version_major": 2,
       "version_minor": 0
      },
      "text/plain": [
       "FloatProgress(value=0.0, bar_style='info', description='Progress:', layout=Layout(height='25px', width='50%'),…"
      ]
     },
     "metadata": {},
     "output_type": "display_data"
    },
    {
     "name": "stdout",
     "output_type": "stream",
     "text": [
      "+---------+--------------------+--------------------+\n",
      "|titleType|        primaryTitle|              genres|\n",
      "+---------+--------------------+--------------------+\n",
      "|    short|          Carmencita|   Documentary,Short|\n",
      "|    short|Le clown et ses c...|     Animation,Short|\n",
      "|    short|      Pauvre Pierrot|Animation,Comedy,...|\n",
      "|    short|         Un bon bock|     Animation,Short|\n",
      "|    short|    Blacksmith Scene|        Comedy,Short|\n",
      "|    short|   Chinese Opium Den|               Short|\n",
      "|    short|Corbett and Court...|         Short,Sport|\n",
      "|    short|Edison Kinetoscop...|   Documentary,Short|\n",
      "|    movie|          Miss Jerry|             Romance|\n",
      "|    short| Exiting the Factory|   Documentary,Short|\n",
      "+---------+--------------------+--------------------+\n",
      "only showing top 10 rows"
     ]
    }
   ],
   "source": [
    "genres.select(\"titleType\", \"primaryTitle\", \"genres\").show(10)"
   ]
  },
  {
   "cell_type": "markdown",
   "id": "c35ce504",
   "metadata": {},
   "source": [
    "Display the unique categories below:"
   ]
  },
  {
   "cell_type": "code",
   "execution_count": 8,
   "id": "5128f46d",
   "metadata": {
    "execution": {
     "iopub.execute_input": "2022-11-21T04:24:18.297502Z",
     "iopub.status.busy": "2022-11-21T04:24:18.295256Z",
     "iopub.status.idle": "2022-11-21T04:24:24.294628Z",
     "shell.execute_reply": "2022-11-21T04:24:24.293242Z",
     "shell.execute_reply.started": "2022-11-21T04:24:18.297448Z"
    },
    "tags": []
   },
   "outputs": [
    {
     "data": {
      "application/vnd.jupyter.widget-view+json": {
       "model_id": "45f079737b7544699655c341872141e3",
       "version_major": 2,
       "version_minor": 0
      },
      "text/plain": [
       "VBox()"
      ]
     },
     "metadata": {},
     "output_type": "display_data"
    },
    {
     "data": {
      "application/vnd.jupyter.widget-view+json": {
       "model_id": "",
       "version_major": 2,
       "version_minor": 0
      },
      "text/plain": [
       "FloatProgress(value=0.0, bar_style='info', description='Progress:', layout=Layout(height='25px', width='50%'),…"
      ]
     },
     "metadata": {},
     "output_type": "display_data"
    },
    {
     "name": "stdout",
     "output_type": "stream",
     "text": [
      "+------------+\n",
      "|   titleType|\n",
      "+------------+\n",
      "|    tvSeries|\n",
      "|tvMiniSeries|\n",
      "|       movie|\n",
      "|   videoGame|\n",
      "|   tvSpecial|\n",
      "|       video|\n",
      "|     tvMovie|\n",
      "|   tvEpisode|\n",
      "|     tvShort|\n",
      "|       short|\n",
      "+------------+"
     ]
    }
   ],
   "source": [
    "genres.select('titleType').withColumn(\"titleType\", explode(split(\"titleType\", \",\"))).distinct().show()"
   ]
  },
  {
   "cell_type": "markdown",
   "id": "4a7a6cce",
   "metadata": {},
   "source": [
    "Display the schema below:"
   ]
  },
  {
   "cell_type": "code",
   "execution_count": 9,
   "id": "ea93031e",
   "metadata": {
    "execution": {
     "iopub.execute_input": "2022-11-21T04:24:24.297210Z",
     "iopub.status.busy": "2022-11-21T04:24:24.296611Z",
     "iopub.status.idle": "2022-11-21T04:24:24.692902Z",
     "shell.execute_reply": "2022-11-21T04:24:24.691163Z",
     "shell.execute_reply.started": "2022-11-21T04:24:24.297165Z"
    },
    "tags": []
   },
   "outputs": [
    {
     "data": {
      "application/vnd.jupyter.widget-view+json": {
       "model_id": "28a0f790767e498aa56a2145ed7dbd73",
       "version_major": 2,
       "version_minor": 0
      },
      "text/plain": [
       "VBox()"
      ]
     },
     "metadata": {},
     "output_type": "display_data"
    },
    {
     "data": {
      "application/vnd.jupyter.widget-view+json": {
       "model_id": "",
       "version_major": 2,
       "version_minor": 0
      },
      "text/plain": [
       "FloatProgress(value=0.0, bar_style='info', description='Progress:', layout=Layout(height='25px', width='50%'),…"
      ]
     },
     "metadata": {},
     "output_type": "display_data"
    },
    {
     "name": "stdout",
     "output_type": "stream",
     "text": [
      "root\n",
      " |-- tconst: string (nullable = true)\n",
      " |-- titleType: string (nullable = true)\n",
      " |-- primaryTitle: string (nullable = true)\n",
      " |-- originalTitle: string (nullable = true)\n",
      " |-- isAdult: string (nullable = true)\n",
      " |-- startYear: string (nullable = true)\n",
      " |-- endYear: string (nullable = true)\n",
      " |-- runtimeMinutes: string (nullable = true)\n",
      " |-- genres: string (nullable = true)"
     ]
    }
   ],
   "source": [
    "genres.printSchema()"
   ]
  },
  {
   "cell_type": "markdown",
   "id": "fa706ee4",
   "metadata": {},
   "source": [
    "## Movie Actors"
   ]
  },
  {
   "cell_type": "markdown",
   "id": "32f14042",
   "metadata": {},
   "source": [
    "Display the schema below:"
   ]
  },
  {
   "cell_type": "code",
   "execution_count": 10,
   "id": "4571eb2f",
   "metadata": {
    "execution": {
     "iopub.execute_input": "2022-11-21T04:24:24.701067Z",
     "iopub.status.busy": "2022-11-21T04:24:24.698347Z",
     "iopub.status.idle": "2022-11-21T04:24:25.098929Z",
     "shell.execute_reply": "2022-11-21T04:24:25.097637Z",
     "shell.execute_reply.started": "2022-11-21T04:24:24.701009Z"
    },
    "tags": []
   },
   "outputs": [
    {
     "data": {
      "application/vnd.jupyter.widget-view+json": {
       "model_id": "03aeaadeb89c4da7b1ec87cda5826166",
       "version_major": 2,
       "version_minor": 0
      },
      "text/plain": [
       "VBox()"
      ]
     },
     "metadata": {},
     "output_type": "display_data"
    },
    {
     "data": {
      "application/vnd.jupyter.widget-view+json": {
       "model_id": "",
       "version_major": 2,
       "version_minor": 0
      },
      "text/plain": [
       "FloatProgress(value=0.0, bar_style='info', description='Progress:', layout=Layout(height='25px', width='50%'),…"
      ]
     },
     "metadata": {},
     "output_type": "display_data"
    },
    {
     "name": "stdout",
     "output_type": "stream",
     "text": [
      "root\n",
      " |-- tconst: string (nullable = true)\n",
      " |-- ordering: string (nullable = true)\n",
      " |-- nconst: string (nullable = true)\n",
      " |-- category: string (nullable = true)\n",
      " |-- job: string (nullable = true)\n",
      " |-- characters: string (nullable = true)"
     ]
    }
   ],
   "source": [
    "movie_actors.printSchema()"
   ]
  },
  {
   "cell_type": "markdown",
   "id": "b08eb2d6",
   "metadata": {},
   "source": [
    "Display the first 10 rows below"
   ]
  },
  {
   "cell_type": "code",
   "execution_count": 11,
   "id": "f1bb4d2e",
   "metadata": {
    "execution": {
     "iopub.execute_input": "2022-11-21T04:24:25.103040Z",
     "iopub.status.busy": "2022-11-21T04:24:25.102319Z",
     "iopub.status.idle": "2022-11-21T04:24:25.515183Z",
     "shell.execute_reply": "2022-11-21T04:24:25.513741Z",
     "shell.execute_reply.started": "2022-11-21T04:24:25.102992Z"
    },
    "tags": []
   },
   "outputs": [
    {
     "data": {
      "application/vnd.jupyter.widget-view+json": {
       "model_id": "8225164e7cad4f508924246c661e111c",
       "version_major": 2,
       "version_minor": 0
      },
      "text/plain": [
       "VBox()"
      ]
     },
     "metadata": {},
     "output_type": "display_data"
    },
    {
     "data": {
      "application/vnd.jupyter.widget-view+json": {
       "model_id": "",
       "version_major": 2,
       "version_minor": 0
      },
      "text/plain": [
       "FloatProgress(value=0.0, bar_style='info', description='Progress:', layout=Layout(height='25px', width='50%'),…"
      ]
     },
     "metadata": {},
     "output_type": "display_data"
    },
    {
     "name": "stdout",
     "output_type": "stream",
     "text": [
      "+---------+--------+---------+---------------+--------------------+-----------+\n",
      "|   tconst|ordering|   nconst|       category|                 job| characters|\n",
      "+---------+--------+---------+---------------+--------------------+-----------+\n",
      "|tt0000001|       1|nm1588970|           self|                  \\N|[\"Herself\"]|\n",
      "|tt0000001|       2|nm0005690|       director|                  \\N|         \\N|\n",
      "|tt0000001|       3|nm0374658|cinematographer|director of photo...|         \\N|\n",
      "|tt0000002|       1|nm0721526|       director|                  \\N|         \\N|\n",
      "|tt0000002|       2|nm1335271|       composer|                  \\N|         \\N|\n",
      "|tt0000003|       1|nm0721526|       director|                  \\N|         \\N|\n",
      "|tt0000003|       2|nm5442194|       producer|            producer|         \\N|\n",
      "|tt0000003|       3|nm1335271|       composer|                  \\N|         \\N|\n",
      "|tt0000003|       4|nm5442200|         editor|                  \\N|         \\N|\n",
      "|tt0000004|       1|nm0721526|       director|                  \\N|         \\N|\n",
      "+---------+--------+---------+---------------+--------------------+-----------+\n",
      "only showing top 10 rows"
     ]
    }
   ],
   "source": [
    "movie_actors.show(10)"
   ]
  },
  {
   "cell_type": "markdown",
   "id": "e063e804",
   "metadata": {},
   "source": [
    "## Movie Ratings"
   ]
  },
  {
   "cell_type": "markdown",
   "id": "8d9dbbf2",
   "metadata": {},
   "source": [
    "Display the schema below:"
   ]
  },
  {
   "cell_type": "code",
   "execution_count": 12,
   "id": "394297ae",
   "metadata": {
    "execution": {
     "iopub.execute_input": "2022-11-21T04:24:25.521718Z",
     "iopub.status.busy": "2022-11-21T04:24:25.520855Z",
     "iopub.status.idle": "2022-11-21T04:24:25.896937Z",
     "shell.execute_reply": "2022-11-21T04:24:25.894695Z",
     "shell.execute_reply.started": "2022-11-21T04:24:25.521665Z"
    },
    "tags": []
   },
   "outputs": [
    {
     "data": {
      "application/vnd.jupyter.widget-view+json": {
       "model_id": "15f1818e059e478e8eb2c7f71fa2c0a1",
       "version_major": 2,
       "version_minor": 0
      },
      "text/plain": [
       "VBox()"
      ]
     },
     "metadata": {},
     "output_type": "display_data"
    },
    {
     "data": {
      "application/vnd.jupyter.widget-view+json": {
       "model_id": "",
       "version_major": 2,
       "version_minor": 0
      },
      "text/plain": [
       "FloatProgress(value=0.0, bar_style='info', description='Progress:', layout=Layout(height='25px', width='50%'),…"
      ]
     },
     "metadata": {},
     "output_type": "display_data"
    },
    {
     "name": "stdout",
     "output_type": "stream",
     "text": [
      "root\n",
      " |-- tconst: string (nullable = true)\n",
      " |-- averageRating: string (nullable = true)\n",
      " |-- numVotes: string (nullable = true)"
     ]
    }
   ],
   "source": [
    "movie_ratings.printSchema()"
   ]
  },
  {
   "cell_type": "markdown",
   "id": "a7e38610",
   "metadata": {},
   "source": [
    "Display the first 10 rows in a descending order by the number of votes"
   ]
  },
  {
   "cell_type": "code",
   "execution_count": 13,
   "id": "95d90d02",
   "metadata": {
    "execution": {
     "iopub.execute_input": "2022-11-21T04:24:25.901412Z",
     "iopub.status.busy": "2022-11-21T04:24:25.900677Z",
     "iopub.status.idle": "2022-11-21T04:24:27.022921Z",
     "shell.execute_reply": "2022-11-21T04:24:27.021847Z",
     "shell.execute_reply.started": "2022-11-21T04:24:25.901364Z"
    },
    "tags": []
   },
   "outputs": [
    {
     "data": {
      "application/vnd.jupyter.widget-view+json": {
       "model_id": "9bc01e44f5e4445fbe0c7fe9cacb461b",
       "version_major": 2,
       "version_minor": 0
      },
      "text/plain": [
       "VBox()"
      ]
     },
     "metadata": {},
     "output_type": "display_data"
    },
    {
     "data": {
      "application/vnd.jupyter.widget-view+json": {
       "model_id": "",
       "version_major": 2,
       "version_minor": 0
      },
      "text/plain": [
       "FloatProgress(value=0.0, bar_style='info', description='Progress:', layout=Layout(height='25px', width='50%'),…"
      ]
     },
     "metadata": {},
     "output_type": "display_data"
    },
    {
     "name": "stdout",
     "output_type": "stream",
     "text": [
      "+---------+-------------+--------+\n",
      "|   tconst|averageRating|numVotes|\n",
      "+---------+-------------+--------+\n",
      "|tt7430722|          6.8|    9999|\n",
      "|tt4445154|          8.1|    9997|\n",
      "|tt2229907|          6.3|    9996|\n",
      "|tt0294097|          8.0|    9994|\n",
      "|tt0264734|          6.5|    9993|\n",
      "|tt2032572|          5.2|    9991|\n",
      "|tt8860450|          6.3|    9991|\n",
      "|tt0025173|          6.6|     999|\n",
      "|tt0245247|          8.3|     999|\n",
      "|tt0062690|          6.1|     999|\n",
      "+---------+-------------+--------+\n",
      "only showing top 10 rows"
     ]
    }
   ],
   "source": [
    "movie_ratings.sort(col(\"numVotes\").desc()).show(10)"
   ]
  },
  {
   "cell_type": "markdown",
   "id": "dc6beb73",
   "metadata": {},
   "source": [
    "# Overview of Data"
   ]
  },
  {
   "cell_type": "markdown",
   "id": "6349d83b",
   "metadata": {},
   "source": [
    "Display the number of rows and columns in each dataFrame object."
   ]
  },
  {
   "cell_type": "code",
   "execution_count": 14,
   "id": "c085e8f6",
   "metadata": {
    "execution": {
     "iopub.execute_input": "2022-11-21T04:24:27.025900Z",
     "iopub.status.busy": "2022-11-21T04:24:27.024715Z",
     "iopub.status.idle": "2022-11-21T04:24:36.732511Z",
     "shell.execute_reply": "2022-11-21T04:24:36.731411Z",
     "shell.execute_reply.started": "2022-11-21T04:24:27.025793Z"
    },
    "scrolled": true,
    "tags": []
   },
   "outputs": [
    {
     "data": {
      "application/vnd.jupyter.widget-view+json": {
       "model_id": "0b2d59706d8b481a866988a32af713ab",
       "version_major": 2,
       "version_minor": 0
      },
      "text/plain": [
       "VBox()"
      ]
     },
     "metadata": {},
     "output_type": "display_data"
    },
    {
     "data": {
      "application/vnd.jupyter.widget-view+json": {
       "model_id": "",
       "version_major": 2,
       "version_minor": 0
      },
      "text/plain": [
       "FloatProgress(value=0.0, bar_style='info', description='Progress:', layout=Layout(height='25px', width='50%'),…"
      ]
     },
     "metadata": {},
     "output_type": "display_data"
    },
    {
     "name": "stdout",
     "output_type": "stream",
     "text": [
      "Number of rows in Actors table: 6\n",
      "Number of columns in Actors table: 9706922\n",
      "Number of rows in Genres table: 9\n",
      "Number of columns in Genres table: 6321302\n",
      "Number of rows in Movie Actors table: 6\n",
      "Number of columns in Movie Actors table: 36468817\n",
      "Number of rows in Movie Ratings table: 3\n",
      "Number of columns in Movie Ratings table: 993153"
     ]
    }
   ],
   "source": [
    "print(f'Number of rows in Actors table: {len(actors.columns)}')\n",
    "print(f'Number of columns in Actors table: {actors.count()}')\n",
    "\n",
    "print(f'Number of rows in Genres table: {len(genres.columns)}')\n",
    "print(f'Number of columns in Genres table: {genres.count()}')\n",
    "\n",
    "print(f'Number of rows in Movie Actors table: {len(movie_actors.columns)}')\n",
    "print(f'Number of columns in Movie Actors table: {movie_actors.count()}')\n",
    "\n",
    "print(f'Number of rows in Movie Ratings table: {len(movie_ratings.columns)}')\n",
    "print(f'Number of columns in Movie Ratings table: {movie_ratings.count()}')\n"
   ]
  },
  {
   "cell_type": "markdown",
   "id": "689e09d5",
   "metadata": {},
   "source": [
    "# PART 2 - Analyzing Genres"
   ]
  },
  {
   "cell_type": "markdown",
   "id": "bce79899",
   "metadata": {},
   "source": [
    "Let's now answer this question: how many unique genres are represented in this dataset?\n",
    "\n",
    "Essentially, we have the genres per movie as a list - this is useful to quickly see what each movie might be represented as but it is difficult to easily answer questions such as:\n",
    "\n",
    "* How many movies are categorized as Comedy, for instance?\n",
    "* What are the top 20 most popular genres available?"
   ]
  },
  {
   "cell_type": "markdown",
   "id": "3f5ea0ad",
   "metadata": {},
   "source": [
    "## Association Table\n",
    "\n",
    "We need to \"break out\" these genres from the tconst? One common approach to take is to build an association table mapping a single tconst multiple times to each distinct genre.\n",
    "\n",
    "For instance, given the following:\n",
    "\n",
    "\n",
    "| tconst   | titleType  |genres |\n",
    "|----------|------------|-------|\n",
    "| abcd123  | XXX        |a,b,c  |\n",
    "\n",
    "We would like to derive something like:\n",
    "\n",
    "| tconst   |  titleType |genre |\n",
    "|----------|------------|------|\n",
    "| abcd123  | XXX        |a     |\n",
    "| abcd123  | XXX        |b     |\n",
    "| abcd123  | XXX        |c     |\n",
    "\n",
    "\n",
    "What this does is allow us to then perform a myriad of rollups and other analysis on this association table which can aid us in answering the questions asked above.\n",
    "\n",
    "Implement the code necessary to derive the table described from the data set"
   ]
  },
  {
   "cell_type": "code",
   "execution_count": 15,
   "id": "61349598",
   "metadata": {
    "execution": {
     "iopub.execute_input": "2022-11-21T04:24:36.735097Z",
     "iopub.status.busy": "2022-11-21T04:24:36.734192Z",
     "iopub.status.idle": "2022-11-21T04:24:37.246897Z",
     "shell.execute_reply": "2022-11-21T04:24:37.245533Z",
     "shell.execute_reply.started": "2022-11-21T04:24:36.735052Z"
    },
    "scrolled": true,
    "tags": []
   },
   "outputs": [
    {
     "data": {
      "application/vnd.jupyter.widget-view+json": {
       "model_id": "96a5eebebf604ab7921d343c195cef0c",
       "version_major": 2,
       "version_minor": 0
      },
      "text/plain": [
       "VBox()"
      ]
     },
     "metadata": {},
     "output_type": "display_data"
    },
    {
     "data": {
      "application/vnd.jupyter.widget-view+json": {
       "model_id": "",
       "version_major": 2,
       "version_minor": 0
      },
      "text/plain": [
       "FloatProgress(value=0.0, bar_style='info', description='Progress:', layout=Layout(height='25px', width='50%'),…"
      ]
     },
     "metadata": {},
     "output_type": "display_data"
    },
    {
     "name": "stdout",
     "output_type": "stream",
     "text": [
      "+---------+---------+-----------------+\n",
      "|   tconst|titleType|           genres|\n",
      "+---------+---------+-----------------+\n",
      "|tt0000001|    short|Documentary,Short|\n",
      "|tt0000002|    short|  Animation,Short|\n",
      "+---------+---------+-----------------+\n",
      "only showing top 2 rows"
     ]
    }
   ],
   "source": [
    "genres.select('tconst','titleType','genres').show(2)"
   ]
  },
  {
   "cell_type": "markdown",
   "id": "3f27ead6",
   "metadata": {},
   "source": [
    "Display the first 10 rows of your association table below"
   ]
  },
  {
   "cell_type": "code",
   "execution_count": 16,
   "id": "209a9abd",
   "metadata": {
    "execution": {
     "iopub.execute_input": "2022-11-21T04:24:37.249938Z",
     "iopub.status.busy": "2022-11-21T04:24:37.249240Z",
     "iopub.status.idle": "2022-11-21T04:24:37.826597Z",
     "shell.execute_reply": "2022-11-21T04:24:37.825247Z",
     "shell.execute_reply.started": "2022-11-21T04:24:37.249896Z"
    },
    "tags": []
   },
   "outputs": [
    {
     "data": {
      "application/vnd.jupyter.widget-view+json": {
       "model_id": "b5441c4beced46bf8f9b4cfdb72f7151",
       "version_major": 2,
       "version_minor": 0
      },
      "text/plain": [
       "VBox()"
      ]
     },
     "metadata": {},
     "output_type": "display_data"
    },
    {
     "data": {
      "application/vnd.jupyter.widget-view+json": {
       "model_id": "",
       "version_major": 2,
       "version_minor": 0
      },
      "text/plain": [
       "FloatProgress(value=0.0, bar_style='info', description='Progress:', layout=Layout(height='25px', width='50%'),…"
      ]
     },
     "metadata": {},
     "output_type": "display_data"
    },
    {
     "name": "stdout",
     "output_type": "stream",
     "text": [
      "+---------+---------+-----------+\n",
      "|   tconst|titleType|     genres|\n",
      "+---------+---------+-----------+\n",
      "|tt0000001|    short|Documentary|\n",
      "|tt0000001|    short|      Short|\n",
      "|tt0000002|    short|  Animation|\n",
      "|tt0000002|    short|      Short|\n",
      "|tt0000003|    short|  Animation|\n",
      "|tt0000003|    short|     Comedy|\n",
      "|tt0000003|    short|    Romance|\n",
      "|tt0000004|    short|  Animation|\n",
      "|tt0000004|    short|      Short|\n",
      "|tt0000005|    short|     Comedy|\n",
      "+---------+---------+-----------+\n",
      "only showing top 10 rows"
     ]
    }
   ],
   "source": [
    "genres.select('tconst','titleType','genres').withColumn(\"genres\", explode(split(\"genres\", \",\"))).show(10)\n"
   ]
  },
  {
   "cell_type": "markdown",
   "id": "28a6cb33",
   "metadata": {},
   "source": [
    "## Total Unique Genres"
   ]
  },
  {
   "cell_type": "markdown",
   "id": "3da774ae",
   "metadata": {},
   "source": [
    "**What is the total number of unique genres available in the movie category?**"
   ]
  },
  {
   "cell_type": "code",
   "execution_count": 17,
   "id": "4e41deb8",
   "metadata": {
    "execution": {
     "iopub.execute_input": "2022-11-21T04:24:37.831601Z",
     "iopub.status.busy": "2022-11-21T04:24:37.830732Z",
     "iopub.status.idle": "2022-11-21T04:24:43.452394Z",
     "shell.execute_reply": "2022-11-21T04:24:43.451204Z",
     "shell.execute_reply.started": "2022-11-21T04:24:37.831554Z"
    },
    "tags": []
   },
   "outputs": [
    {
     "data": {
      "application/vnd.jupyter.widget-view+json": {
       "model_id": "eb82e831f48a4c7a9628842c055991ec",
       "version_major": 2,
       "version_minor": 0
      },
      "text/plain": [
       "VBox()"
      ]
     },
     "metadata": {},
     "output_type": "display_data"
    },
    {
     "data": {
      "application/vnd.jupyter.widget-view+json": {
       "model_id": "",
       "version_major": 2,
       "version_minor": 0
      },
      "text/plain": [
       "FloatProgress(value=0.0, bar_style='info', description='Progress:', layout=Layout(height='25px', width='50%'),…"
      ]
     },
     "metadata": {},
     "output_type": "display_data"
    },
    {
     "name": "stdout",
     "output_type": "stream",
     "text": [
      "Number of Unique genres: 29"
     ]
    }
   ],
   "source": [
    "num_of_unique_genres = genres.select('titleType','genres').withColumn(\"genres\", explode(split(\"genres\", \",\"))).select('genres').distinct().count()\n",
    "print(f'Number of Unique genres: {num_of_unique_genres}')"
   ]
  },
  {
   "cell_type": "markdown",
   "id": "a7808ac8",
   "metadata": {},
   "source": [
    "**What are the unique genres available?**"
   ]
  },
  {
   "cell_type": "code",
   "execution_count": 18,
   "id": "1c502d5f",
   "metadata": {
    "execution": {
     "iopub.execute_input": "2022-11-21T04:24:43.455218Z",
     "iopub.status.busy": "2022-11-21T04:24:43.454401Z",
     "iopub.status.idle": "2022-11-21T04:24:49.108016Z",
     "shell.execute_reply": "2022-11-21T04:24:49.106838Z",
     "shell.execute_reply.started": "2022-11-21T04:24:43.455175Z"
    },
    "scrolled": true,
    "tags": []
   },
   "outputs": [
    {
     "data": {
      "application/vnd.jupyter.widget-view+json": {
       "model_id": "ddc9653d2e5b49919730a5fe7fb93514",
       "version_major": 2,
       "version_minor": 0
      },
      "text/plain": [
       "VBox()"
      ]
     },
     "metadata": {},
     "output_type": "display_data"
    },
    {
     "data": {
      "application/vnd.jupyter.widget-view+json": {
       "model_id": "",
       "version_major": 2,
       "version_minor": 0
      },
      "text/plain": [
       "FloatProgress(value=0.0, bar_style='info', description='Progress:', layout=Layout(height='25px', width='50%'),…"
      ]
     },
     "metadata": {},
     "output_type": "display_data"
    },
    {
     "name": "stdout",
     "output_type": "stream",
     "text": [
      "+-----------+\n",
      "|genres     |\n",
      "+-----------+\n",
      "|Mystery    |\n",
      "|Musical    |\n",
      "|Sport      |\n",
      "|Action     |\n",
      "|Talk-Show  |\n",
      "|Romance    |\n",
      "|Thriller   |\n",
      "|\\N         |\n",
      "|Reality-TV |\n",
      "|Family     |\n",
      "|Fantasy    |\n",
      "|History    |\n",
      "|Animation  |\n",
      "|Film-Noir  |\n",
      "|Short      |\n",
      "|Sci-Fi     |\n",
      "|News       |\n",
      "|Drama      |\n",
      "|Documentary|\n",
      "|Western    |\n",
      "+-----------+\n",
      "only showing top 20 rows"
     ]
    }
   ],
   "source": [
    "genres.select('genres').withColumn(\"genres\", explode(split(\"genres\", \",\"))).select('genres').distinct().show(truncate=False)\n",
    "\n"
   ]
  },
  {
   "cell_type": "markdown",
   "id": "85bae74f",
   "metadata": {},
   "source": [
    "**Oops! Something is off!**"
   ]
  },
  {
   "cell_type": "code",
   "execution_count": 19,
   "id": "aba98757-5691-476f-853c-52f8d1887820",
   "metadata": {
    "execution": {
     "iopub.execute_input": "2022-11-21T04:24:49.110315Z",
     "iopub.status.busy": "2022-11-21T04:24:49.109392Z",
     "iopub.status.idle": "2022-11-21T04:24:54.773499Z",
     "shell.execute_reply": "2022-11-21T04:24:54.772226Z",
     "shell.execute_reply.started": "2022-11-21T04:24:49.110270Z"
    },
    "tags": []
   },
   "outputs": [
    {
     "data": {
      "application/vnd.jupyter.widget-view+json": {
       "model_id": "7d3478e583d94d0e8354078cb9a9af23",
       "version_major": 2,
       "version_minor": 0
      },
      "text/plain": [
       "VBox()"
      ]
     },
     "metadata": {},
     "output_type": "display_data"
    },
    {
     "data": {
      "application/vnd.jupyter.widget-view+json": {
       "model_id": "",
       "version_major": 2,
       "version_minor": 0
      },
      "text/plain": [
       "FloatProgress(value=0.0, bar_style='info', description='Progress:', layout=Layout(height='25px', width='50%'),…"
      ]
     },
     "metadata": {},
     "output_type": "display_data"
    },
    {
     "name": "stdout",
     "output_type": "stream",
     "text": [
      "+-----------+\n",
      "|genres     |\n",
      "+-----------+\n",
      "|Mystery    |\n",
      "|Musical    |\n",
      "|Sport      |\n",
      "|Action     |\n",
      "|Talk-Show  |\n",
      "|Romance    |\n",
      "|Thriller   |\n",
      "|Reality-TV |\n",
      "|Family     |\n",
      "|Fantasy    |\n",
      "|History    |\n",
      "|Animation  |\n",
      "|Short      |\n",
      "|Film-Noir  |\n",
      "|Sci-Fi     |\n",
      "|News       |\n",
      "|Drama      |\n",
      "|Documentary|\n",
      "|Western    |\n",
      "|Comedy     |\n",
      "+-----------+\n",
      "only showing top 20 rows"
     ]
    }
   ],
   "source": [
    "genres_ref = genres.select('genres').withColumn(\"genres\", explode(split(\"genres\", \",\"))).select('genres').where(genres.genres!='\\\\N')\n",
    "genres_ref.distinct().show(truncate=False)"
   ]
  },
  {
   "cell_type": "code",
   "execution_count": 20,
   "id": "379868ed",
   "metadata": {
    "execution": {
     "iopub.execute_input": "2022-11-21T04:24:54.776355Z",
     "iopub.status.busy": "2022-11-21T04:24:54.775387Z",
     "iopub.status.idle": "2022-11-21T04:25:00.435589Z",
     "shell.execute_reply": "2022-11-21T04:25:00.434362Z",
     "shell.execute_reply.started": "2022-11-21T04:24:54.776306Z"
    },
    "tags": []
   },
   "outputs": [
    {
     "data": {
      "application/vnd.jupyter.widget-view+json": {
       "model_id": "5ee234f8fe664112a2d78e3b51e89923",
       "version_major": 2,
       "version_minor": 0
      },
      "text/plain": [
       "VBox()"
      ]
     },
     "metadata": {},
     "output_type": "display_data"
    },
    {
     "data": {
      "application/vnd.jupyter.widget-view+json": {
       "model_id": "",
       "version_major": 2,
       "version_minor": 0
      },
      "text/plain": [
       "FloatProgress(value=0.0, bar_style='info', description='Progress:', layout=Layout(height='25px', width='50%'),…"
      ]
     },
     "metadata": {},
     "output_type": "display_data"
    },
    {
     "name": "stdout",
     "output_type": "stream",
     "text": [
      "Number of Unique genres: 28"
     ]
    }
   ],
   "source": [
    "num_of_unique_genres = genres_ref.distinct().count()\n",
    "print(f'Number of Unique genres: {num_of_unique_genres}')"
   ]
  },
  {
   "cell_type": "markdown",
   "id": "fe9a6b8a",
   "metadata": {},
   "source": [
    "## Top Genres by Movies\n",
    "\n",
    "Now let's find the highest rated genres in this dataset by rolling up genres."
   ]
  },
  {
   "cell_type": "markdown",
   "id": "b30e0b96",
   "metadata": {},
   "source": [
    "### Average Rating / Genre"
   ]
  },
  {
   "cell_type": "markdown",
   "id": "59242911",
   "metadata": {},
   "source": [
    "So now, let's unroll our distinct count a bit and display the per average rating value of per genre.\n",
    "\n",
    "The expected output should be:\n",
    "\n",
    "| genre | averageRating |\n",
    "|-------------|------------|\n",
    "| a     | 8.5         |\n",
    "| b     | 6.3         |\n",
    "| c     | 7.2         |\n",
    "\n",
    "Or something to that effect."
   ]
  },
  {
   "cell_type": "markdown",
   "id": "f505b1a2",
   "metadata": {},
   "source": [
    "First, let's join our two dataframes (movie ratings and genres) by tconst"
   ]
  },
  {
   "cell_type": "code",
   "execution_count": 21,
   "id": "f873a474-37cf-4942-8c18-79d411381877",
   "metadata": {
    "execution": {
     "iopub.execute_input": "2022-11-21T04:55:03.829715Z",
     "iopub.status.busy": "2022-11-21T04:55:03.829381Z",
     "iopub.status.idle": "2022-11-21T04:55:04.316462Z",
     "shell.execute_reply": "2022-11-21T04:55:04.315293Z",
     "shell.execute_reply.started": "2022-11-21T04:55:03.829687Z"
    },
    "tags": []
   },
   "outputs": [
    {
     "data": {
      "application/vnd.jupyter.widget-view+json": {
       "model_id": "723152e8c79e490ebf6d05e3e41de3d1",
       "version_major": 2,
       "version_minor": 0
      },
      "text/plain": [
       "VBox()"
      ]
     },
     "metadata": {},
     "output_type": "display_data"
    },
    {
     "data": {
      "application/vnd.jupyter.widget-view+json": {
       "model_id": "",
       "version_major": 2,
       "version_minor": 0
      },
      "text/plain": [
       "FloatProgress(value=0.0, bar_style='info', description='Progress:', layout=Layout(height='25px', width='50%'),…"
      ]
     },
     "metadata": {},
     "output_type": "display_data"
    },
    {
     "name": "stdout",
     "output_type": "stream",
     "text": [
      "+---------+-------------+--------+\n",
      "|   tconst|averageRating|numVotes|\n",
      "+---------+-------------+--------+\n",
      "|tt0000001|          5.6|    1550|\n",
      "|tt0000002|          6.1|     186|\n",
      "+---------+-------------+--------+\n",
      "only showing top 2 rows"
     ]
    }
   ],
   "source": [
    "\n",
    "genres_tconst = genres.select('tconst','genres','titleType').withColumn(\"genres\",explode(split(\"genres\", \",\"))) \\\n",
    "                                                .select('tconst','genres','titleType') \\\n",
    "                                                .filter(genres.genres!='\\\\N') \\\n",
    "                                                .filter(genres.titleType =='movie')\n",
    "\n",
    "movie_ratings.show(2)\n"
   ]
  },
  {
   "cell_type": "code",
   "execution_count": 22,
   "id": "a17ccde7-58ee-41e0-b852-9d30569fa159",
   "metadata": {
    "execution": {
     "iopub.execute_input": "2022-11-21T04:55:18.485944Z",
     "iopub.status.busy": "2022-11-21T04:55:18.485630Z",
     "iopub.status.idle": "2022-11-21T04:55:26.143846Z",
     "shell.execute_reply": "2022-11-21T04:55:26.142835Z",
     "shell.execute_reply.started": "2022-11-21T04:55:18.485917Z"
    },
    "tags": []
   },
   "outputs": [
    {
     "data": {
      "application/vnd.jupyter.widget-view+json": {
       "model_id": "619c84111d4d4544aa6e01ce771e02a2",
       "version_major": 2,
       "version_minor": 0
      },
      "text/plain": [
       "VBox()"
      ]
     },
     "metadata": {},
     "output_type": "display_data"
    },
    {
     "data": {
      "application/vnd.jupyter.widget-view+json": {
       "model_id": "",
       "version_major": 2,
       "version_minor": 0
      },
      "text/plain": [
       "FloatProgress(value=0.0, bar_style='info', description='Progress:', layout=Layout(height='25px', width='50%'),…"
      ]
     },
     "metadata": {},
     "output_type": "display_data"
    },
    {
     "name": "stdout",
     "output_type": "stream",
     "text": [
      "+---------+----------+\n",
      "|   genres|avg_rating|\n",
      "+---------+----------+\n",
      "|    Drama|       4.2|\n",
      "|    Drama|       4.2|\n",
      "|Biography|       4.1|\n",
      "|    Drama|       4.1|\n",
      "|  History|       4.1|\n",
      "|    Drama|       5.7|\n",
      "|    Drama|       4.6|\n",
      "|  History|       4.6|\n",
      "|Biography|       6.3|\n",
      "|    Drama|       6.3|\n",
      "+---------+----------+\n",
      "only showing top 10 rows"
     ]
    }
   ],
   "source": [
    "inner_join_genres = genres_tconst.join(movie_ratings, on=['tconst'], how='inner') \\\n",
    "                                 .select('genres','averageRating') \\\n",
    "                                 .withColumn(\"averageRating\", col(\"averageRating\").cast(\"float\")) \\\n",
    "                                 .withColumnRenamed(\"averageRating\",\"avg_rating\")\n",
    "                                 \n",
    "\n",
    "inner_join_genres.show(10)\n",
    "\n",
    "\n"
   ]
  },
  {
   "cell_type": "markdown",
   "id": "5ac38a61",
   "metadata": {},
   "source": [
    "Now, let's aggregate along the averageRating column to get a resultant dataframe that displays average rating per genre."
   ]
  },
  {
   "cell_type": "code",
   "execution_count": 23,
   "id": "7f8424c8",
   "metadata": {
    "execution": {
     "iopub.execute_input": "2022-11-21T04:59:29.657600Z",
     "iopub.status.busy": "2022-11-21T04:59:29.657127Z",
     "iopub.status.idle": "2022-11-21T04:59:37.416864Z",
     "shell.execute_reply": "2022-11-21T04:59:37.415914Z",
     "shell.execute_reply.started": "2022-11-21T04:59:29.657550Z"
    },
    "scrolled": true,
    "tags": []
   },
   "outputs": [
    {
     "data": {
      "application/vnd.jupyter.widget-view+json": {
       "model_id": "e3a930a7d0e24214ad446e5a75f4f69a",
       "version_major": 2,
       "version_minor": 0
      },
      "text/plain": [
       "VBox()"
      ]
     },
     "metadata": {},
     "output_type": "display_data"
    },
    {
     "data": {
      "application/vnd.jupyter.widget-view+json": {
       "model_id": "",
       "version_major": 2,
       "version_minor": 0
      },
      "text/plain": [
       "FloatProgress(value=0.0, bar_style='info', description='Progress:', layout=Layout(height='25px', width='50%'),…"
      ]
     },
     "metadata": {},
     "output_type": "display_data"
    },
    {
     "name": "stdout",
     "output_type": "stream",
     "text": [
      "+-----------+----------------+\n",
      "|genres     |avg_rating      |\n",
      "+-----------+----------------+\n",
      "|Short      |7.25999994277954|\n",
      "|Documentary|7.2454698053711 |\n",
      "|News       |7.20091604094469|\n",
      "|Biography  |6.98363764304459|\n",
      "|Game-Show  |6.97499990463257|\n",
      "|History    |6.82271811719386|\n",
      "|Music      |6.75202020721459|\n",
      "|Film-Noir  |6.63624678050338|\n",
      "|Sport      |6.60014519094339|\n",
      "|War        |6.4838070362784 |\n",
      "|Reality-TV |6.37931037771291|\n",
      "|Animation  |6.32620374946744|\n",
      "|Drama      |6.28808021109754|\n",
      "|Family     |6.25056045269964|\n",
      "|Musical    |6.20324605318532|\n",
      "|Romance    |6.12571417929443|\n",
      "|Crime      |6.02601333310915|\n",
      "|Western    |5.94897099100506|\n",
      "|Comedy     |5.94136310782223|\n",
      "|Mystery    |5.94043753712632|\n",
      "+-----------+----------------+\n",
      "only showing top 20 rows"
     ]
    }
   ],
   "source": [
    "genres_avgrating_genre = inner_join_genres.groupBy('genres').agg(mean('avg_rating'))  \\\n",
    "                        .withColumn(\"avg(avg_rating)\", round(\"avg(avg_rating)\", 14)) \\\n",
    "                        .sort(\"avg(avg_rating)\", ascending=False)\n",
    "genres_avgrating_genre1 = genres_avgrating_genre.withColumnRenamed(\"avg(avg_rating)\",\"avg_rating\")\n",
    "\n",
    "genres_avgrating_genre1.show(truncate=False)"
   ]
  },
  {
   "cell_type": "markdown",
   "id": "31bbbe8a",
   "metadata": {},
   "source": [
    "### Horizontal Bar Chart of Top Genres\n",
    "\n",
    "With this data available, let us now build a barchart of all genres \n",
    "\n",
    "**HINT**: don't forget about the matplotlib magic!\n",
    "\n",
    "```\n",
    "%matplot plt\n",
    "```"
   ]
  },
  {
   "cell_type": "code",
   "execution_count": 24,
   "id": "52189e81",
   "metadata": {
    "execution": {
     "iopub.execute_input": "2022-11-21T05:02:20.737853Z",
     "iopub.status.busy": "2022-11-21T05:02:20.737546Z",
     "iopub.status.idle": "2022-11-21T05:02:30.390685Z",
     "shell.execute_reply": "2022-11-21T05:02:30.386015Z",
     "shell.execute_reply.started": "2022-11-21T05:02:20.737827Z"
    }
   },
   "outputs": [
    {
     "data": {
      "application/vnd.jupyter.widget-view+json": {
       "model_id": "cffa22421ac542bab8860a7f25ca89bc",
       "version_major": 2,
       "version_minor": 0
      },
      "text/plain": [
       "VBox()"
      ]
     },
     "metadata": {},
     "output_type": "display_data"
    },
    {
     "data": {
      "application/vnd.jupyter.widget-view+json": {
       "model_id": "",
       "version_major": 2,
       "version_minor": 0
      },
      "text/plain": [
       "FloatProgress(value=0.0, bar_style='info', description='Progress:', layout=Layout(height='25px', width='50%'),…"
      ]
     },
     "metadata": {},
     "output_type": "display_data"
    },
    {
     "name": "stdout",
     "output_type": "stream",
     "text": [
      "+-----------+----------------+\n",
      "|genres     |avg_rating      |\n",
      "+-----------+----------------+\n",
      "|Short      |7.25999994277954|\n",
      "|Documentary|7.2454698053711 |\n",
      "|News       |7.20091604094469|\n",
      "|Biography  |6.98363764304459|\n",
      "|Game-Show  |6.97499990463257|\n",
      "|History    |6.82271811719386|\n",
      "|Music      |6.75202020721459|\n",
      "|Film-Noir  |6.63624678050338|\n",
      "|Sport      |6.60014519094339|\n",
      "|War        |6.4838070362784 |\n",
      "|Reality-TV |6.37931037771291|\n",
      "|Animation  |6.32620374946744|\n",
      "|Drama      |6.28808021109754|\n",
      "|Family     |6.25056045269964|\n",
      "|Musical    |6.20324605318532|\n",
      "|Romance    |6.12571417929443|\n",
      "|Crime      |6.02601333310915|\n",
      "|Western    |5.94897099100506|\n",
      "|Comedy     |5.94136310782223|\n",
      "|Mystery    |5.94043753712632|\n",
      "+-----------+----------------+\n",
      "only showing top 20 rows"
     ]
    }
   ],
   "source": [
    "genres_avgrating_genre1.show(truncate=False)"
   ]
  },
  {
   "cell_type": "code",
   "execution_count": 25,
   "id": "2594600c",
   "metadata": {
    "execution": {
     "iopub.execute_input": "2022-11-21T05:02:52.027440Z",
     "iopub.status.busy": "2022-11-21T05:02:52.027127Z",
     "iopub.status.idle": "2022-11-21T05:03:01.740267Z",
     "shell.execute_reply": "2022-11-21T05:03:01.737739Z",
     "shell.execute_reply.started": "2022-11-21T05:02:52.027414Z"
    }
   },
   "outputs": [
    {
     "data": {
      "application/vnd.jupyter.widget-view+json": {
       "model_id": "766e556e95914b3795e836e2217afde0",
       "version_major": 2,
       "version_minor": 0
      },
      "text/plain": [
       "VBox()"
      ]
     },
     "metadata": {},
     "output_type": "display_data"
    },
    {
     "data": {
      "application/vnd.jupyter.widget-view+json": {
       "model_id": "",
       "version_major": 2,
       "version_minor": 0
      },
      "text/plain": [
       "FloatProgress(value=0.0, bar_style='info', description='Progress:', layout=Layout(height='25px', width='50%'),…"
      ]
     },
     "metadata": {},
     "output_type": "display_data"
    },
    {
     "data": {
      "image/png": "[encoded data removed]",
      "text/plain": [
       "<IPython.core.display.Image object>"
      ]
     },
     "metadata": {},
     "output_type": "display_data"
    }
   ],
   "source": [
    "genres_avgrating_genre_aver_all = genres_avgrating_genre1.sort(\"avg_rating\", ascending=False).toPandas().set_index('genres')\n",
    "\n",
    "# plot\n",
    "genres_avgrating_genre_aver_all.plot.barh().invert_yaxis()\n",
    "plt.title('Top Genres in the Movie Calegory')\n",
    "plt.xlabel(\"Average rating\")\n",
    "plt.ylabel(\"genres\")\n",
    "plt.xlim(5.0, 8.0)\n",
    "plt.rcParams[\"figure.figsize\"] = [20, 8]\n",
    "\n",
    "%matplot plt"
   ]
  },
  {
   "cell_type": "markdown",
   "id": "0cae0d39",
   "metadata": {},
   "source": [
    "## PART 3 - Analyzing Job Categories"
   ]
  },
  {
   "cell_type": "markdown",
   "id": "79d96276",
   "metadata": {},
   "source": [
    "## Total Unique Job Categories"
   ]
  },
  {
   "cell_type": "markdown",
   "id": "e7d31372",
   "metadata": {},
   "source": [
    "**What is the total number of unique job categories?**"
   ]
  },
  {
   "cell_type": "code",
   "execution_count": 26,
   "id": "d98a0f7e",
   "metadata": {
    "execution": {
     "iopub.execute_input": "2022-11-21T05:14:36.834258Z",
     "iopub.status.busy": "2022-11-21T05:14:36.831491Z",
     "iopub.status.idle": "2022-11-21T05:14:37.326960Z",
     "shell.execute_reply": "2022-11-21T05:14:37.325687Z",
     "shell.execute_reply.started": "2022-11-21T05:14:36.834169Z"
    }
   },
   "outputs": [
    {
     "data": {
      "application/vnd.jupyter.widget-view+json": {
       "model_id": "d768ff54092c46e489f26addf0562661",
       "version_major": 2,
       "version_minor": 0
      },
      "text/plain": [
       "VBox()"
      ]
     },
     "metadata": {},
     "output_type": "display_data"
    },
    {
     "data": {
      "application/vnd.jupyter.widget-view+json": {
       "model_id": "",
       "version_major": 2,
       "version_minor": 0
      },
      "text/plain": [
       "FloatProgress(value=0.0, bar_style='info', description='Progress:', layout=Layout(height='25px', width='50%'),…"
      ]
     },
     "metadata": {},
     "output_type": "display_data"
    },
    {
     "name": "stdout",
     "output_type": "stream",
     "text": [
      "+---------+---------------+\n",
      "|   tconst|       category|\n",
      "+---------+---------------+\n",
      "|tt0000001|           self|\n",
      "|tt0000001|       director|\n",
      "|tt0000001|cinematographer|\n",
      "|tt0000002|       director|\n",
      "|tt0000002|       composer|\n",
      "+---------+---------------+\n",
      "only showing top 5 rows"
     ]
    }
   ],
   "source": [
    "movie_actors.select('tconst','category').show(5)"
   ]
  },
  {
   "cell_type": "code",
   "execution_count": 27,
   "id": "fca4e545",
   "metadata": {
    "execution": {
     "iopub.execute_input": "2022-11-21T05:16:45.420548Z",
     "iopub.status.busy": "2022-11-21T05:16:45.420178Z",
     "iopub.status.idle": "2022-11-21T05:17:03.249836Z",
     "shell.execute_reply": "2022-11-21T05:17:03.245098Z",
     "shell.execute_reply.started": "2022-11-21T05:16:45.420514Z"
    }
   },
   "outputs": [
    {
     "data": {
      "application/vnd.jupyter.widget-view+json": {
       "model_id": "a861bda7b3594b97ae9818be41f4725f",
       "version_major": 2,
       "version_minor": 0
      },
      "text/plain": [
       "VBox()"
      ]
     },
     "metadata": {},
     "output_type": "display_data"
    },
    {
     "data": {
      "application/vnd.jupyter.widget-view+json": {
       "model_id": "",
       "version_major": 2,
       "version_minor": 0
      },
      "text/plain": [
       "FloatProgress(value=0.0, bar_style='info', description='Progress:', layout=Layout(height='25px', width='50%'),…"
      ]
     },
     "metadata": {},
     "output_type": "display_data"
    },
    {
     "name": "stdout",
     "output_type": "stream",
     "text": [
      "12"
     ]
    }
   ],
   "source": [
    "movie_actors.select('category').distinct().count()"
   ]
  },
  {
   "cell_type": "markdown",
   "id": "3c19f62b",
   "metadata": {},
   "source": [
    "**What are the unique job categories available?**"
   ]
  },
  {
   "cell_type": "code",
   "execution_count": 28,
   "id": "37eadfcc",
   "metadata": {
    "execution": {
     "iopub.execute_input": "2022-11-21T05:18:00.940360Z",
     "iopub.status.busy": "2022-11-21T05:18:00.940045Z",
     "iopub.status.idle": "2022-11-21T05:18:16.767229Z",
     "shell.execute_reply": "2022-11-21T05:18:16.766124Z",
     "shell.execute_reply.started": "2022-11-21T05:18:00.940333Z"
    }
   },
   "outputs": [
    {
     "data": {
      "application/vnd.jupyter.widget-view+json": {
       "model_id": "4d8d7dbce9ca421b9841196e39cb2f49",
       "version_major": 2,
       "version_minor": 0
      },
      "text/plain": [
       "VBox()"
      ]
     },
     "metadata": {},
     "output_type": "display_data"
    },
    {
     "data": {
      "application/vnd.jupyter.widget-view+json": {
       "model_id": "",
       "version_major": 2,
       "version_minor": 0
      },
      "text/plain": [
       "FloatProgress(value=0.0, bar_style='info', description='Progress:', layout=Layout(height='25px', width='50%'),…"
      ]
     },
     "metadata": {},
     "output_type": "display_data"
    },
    {
     "name": "stdout",
     "output_type": "stream",
     "text": [
      "+-------------------+\n",
      "|category           |\n",
      "+-------------------+\n",
      "|actress            |\n",
      "|producer           |\n",
      "|production_designer|\n",
      "|writer             |\n",
      "|actor              |\n",
      "|cinematographer    |\n",
      "|archive_sound      |\n",
      "|archive_footage    |\n",
      "|self               |\n",
      "|editor             |\n",
      "|composer           |\n",
      "|director           |\n",
      "+-------------------+"
     ]
    }
   ],
   "source": [
    "movie_actors.select('category').distinct().show(truncate=False)"
   ]
  },
  {
   "cell_type": "markdown",
   "id": "59b33bb2",
   "metadata": {},
   "source": [
    "## Top Job Categories"
   ]
  },
  {
   "cell_type": "markdown",
   "id": "7f911dfc",
   "metadata": {},
   "source": [
    "Now let's find the top job categories in this dataset by rolling up categories."
   ]
  },
  {
   "cell_type": "markdown",
   "id": "1c0edd43",
   "metadata": {},
   "source": [
    "### Counts of Titles / Job Category"
   ]
  },
  {
   "cell_type": "markdown",
   "id": "001e3f3c",
   "metadata": {},
   "source": [
    "The expected output should be:\n",
    "\n",
    "| category | count |\n",
    "|-------------|------------|\n",
    "| a     | 15         |\n",
    "| b     | 2          |\n",
    "| c     | 45          |\n",
    "\n",
    "Or something to that effect."
   ]
  },
  {
   "cell_type": "code",
   "execution_count": 29,
   "id": "d6f8d689",
   "metadata": {
    "scrolled": false
   },
   "outputs": [
    {
     "data": {
      "application/vnd.jupyter.widget-view+json": {
       "model_id": "8a1f62d1c13a49ed876433c1710e1948",
       "version_major": 2,
       "version_minor": 0
      },
      "text/plain": [
       "VBox()"
      ]
     },
     "metadata": {},
     "output_type": "display_data"
    },
    {
     "data": {
      "application/vnd.jupyter.widget-view+json": {
       "model_id": "",
       "version_major": 2,
       "version_minor": 0
      },
      "text/plain": [
       "FloatProgress(value=0.0, bar_style='info', description='Progress:', layout=Layout(height='25px', width='50%'),…"
      ]
     },
     "metadata": {},
     "output_type": "display_data"
    },
    {
     "name": "stdout",
     "output_type": "stream",
     "text": [
      "+-------------------+-------+\n",
      "|category           |count  |\n",
      "+-------------------+-------+\n",
      "|actress            |6325097|\n",
      "|producer           |2197866|\n",
      "|production_designer|285924 |\n",
      "|writer             |4811596|\n",
      "|actor              |8493701|\n",
      "|cinematographer    |1300404|\n",
      "|archive_sound      |2143   |\n",
      "|archive_footage    |209035 |\n",
      "|self               |6153089|\n",
      "|editor             |1197669|\n",
      "|composer           |1313187|\n",
      "|director           |4179106|\n",
      "+-------------------+-------+"
     ]
    }
   ],
   "source": [
    "job_categories = movie_actors.select('tconst','category') \\\n",
    "                            .groupBy('category').count().show(truncate=False)\n"
   ]
  },
  {
   "cell_type": "markdown",
   "id": "96ce95b2",
   "metadata": {},
   "source": [
    "### Bar Chart of Top Job Categories\n",
    "\n",
    "With this data available, let us now build a barchart of the top 5 categories. \n",
    "\n",
    "**HINT**: don't forget about the matplotlib magic!\n",
    "\n",
    "```\n",
    "%matplot plt\n",
    "```"
   ]
  },
  {
   "cell_type": "code",
   "execution_count": 30,
   "id": "0af53ede",
   "metadata": {
    "scrolled": true
   },
   "outputs": [
    {
     "data": {
      "application/vnd.jupyter.widget-view+json": {
       "model_id": "c18b08f7d39849d9adebfee8ef822b3e",
       "version_major": 2,
       "version_minor": 0
      },
      "text/plain": [
       "VBox()"
      ]
     },
     "metadata": {},
     "output_type": "display_data"
    },
    {
     "data": {
      "application/vnd.jupyter.widget-view+json": {
       "model_id": "",
       "version_major": 2,
       "version_minor": 0
      },
      "text/plain": [
       "FloatProgress(value=0.0, bar_style='info', description='Progress:', layout=Layout(height='25px', width='50%'),…"
      ]
     },
     "metadata": {},
     "output_type": "display_data"
    },
    {
     "name": "stdout",
     "output_type": "stream",
     "text": [
      "+-------------------+-------+\n",
      "|category           |count  |\n",
      "+-------------------+-------+\n",
      "|actor              |8493701|\n",
      "|actress            |6325097|\n",
      "|self               |6153089|\n",
      "|writer             |4811596|\n",
      "|director           |4179106|\n",
      "|producer           |2197866|\n",
      "|composer           |1313187|\n",
      "|cinematographer    |1300404|\n",
      "|editor             |1197669|\n",
      "|production_designer|285924 |\n",
      "|archive_footage    |209035 |\n",
      "|archive_sound      |2143   |\n",
      "+-------------------+-------+"
     ]
    }
   ],
   "source": [
    "job_categories = movie_actors.select('tconst','category') \\\n",
    "                            .groupBy('category').count().sort(\"count\", ascending=False)\n",
    "\n",
    "job_categories.show(truncate=False)"
   ]
  },
  {
   "cell_type": "code",
   "execution_count": 31,
   "id": "f397416a",
   "metadata": {
    "scrolled": true
   },
   "outputs": [
    {
     "data": {
      "application/vnd.jupyter.widget-view+json": {
       "model_id": "6d29cde3fc694cb09b45145a5193973e",
       "version_major": 2,
       "version_minor": 0
      },
      "text/plain": [
       "VBox()"
      ]
     },
     "metadata": {},
     "output_type": "display_data"
    },
    {
     "data": {
      "application/vnd.jupyter.widget-view+json": {
       "model_id": "",
       "version_major": 2,
       "version_minor": 0
      },
      "text/plain": [
       "FloatProgress(value=0.0, bar_style='info', description='Progress:', layout=Layout(height='25px', width='50%'),…"
      ]
     },
     "metadata": {},
     "output_type": "display_data"
    },
    {
     "data": {
      "image/png": "[encoded data removed]",
      "text/plain": [
       "<IPython.core.display.Image object>"
      ]
     },
     "metadata": {},
     "output_type": "display_data"
    }
   ],
   "source": [
    "job_categories_count_top20 = job_categories.sort(\"count\", ascending=False).limit(5)\n",
    "\n",
    "job_categories_count_top20_pandas = job_categories_count_top20.toPandas().set_index('category')\n",
    "\n",
    "job_categories_count_top20_pandas.plot(kind=\"bar\", color='orange')\n",
    "plt.xticks(rotation=45, horizontalalignment=\"center\")\n",
    "plt.ylim = [0,9]\n",
    "plt.title(\"Top job categories\")\n",
    "plt.xlabel(\"Job categories\")\n",
    "plt.ylabel(\"Count\")\n",
    "plt.rcParams[\"figure.figsize\"] = [15, 9]\n",
    "\n",
    "%matplot plt"
   ]
  },
  {
   "cell_type": "markdown",
   "id": "c5a31583",
   "metadata": {},
   "source": [
    "# PART 4 - Answer to the following questions:"
   ]
  },
  {
   "cell_type": "markdown",
   "id": "76917365",
   "metadata": {},
   "source": [
    "## 1) Find all the \"movies\" featuring \"Johnny Depp\" and \"Helena Bonham Carter\"."
   ]
  },
  {
   "cell_type": "markdown",
   "id": "c4600ef2",
   "metadata": {},
   "source": [
    "First join actors, genres, and movie actors on each other"
   ]
  },
  {
   "cell_type": "code",
   "execution_count": 32,
   "id": "0e09ef38",
   "metadata": {},
   "outputs": [
    {
     "data": {
      "application/vnd.jupyter.widget-view+json": {
       "model_id": "916eb6a0f2b2491ca3ed159a015b900f",
       "version_major": 2,
       "version_minor": 0
      },
      "text/plain": [
       "VBox()"
      ]
     },
     "metadata": {},
     "output_type": "display_data"
    },
    {
     "data": {
      "application/vnd.jupyter.widget-view+json": {
       "model_id": "",
       "version_major": 2,
       "version_minor": 0
      },
      "text/plain": [
       "FloatProgress(value=0.0, bar_style='info', description='Progress:', layout=Layout(height='25px', width='50%'),…"
      ]
     },
     "metadata": {},
     "output_type": "display_data"
    },
    {
     "name": "stdout",
     "output_type": "stream",
     "text": [
      "+----------------------------------------------+\n",
      "|primaryTitle                                  |\n",
      "+----------------------------------------------+\n",
      "|Dark Shadows                                  |\n",
      "|Sweeney Todd: The Demon Barber of Fleet Street|\n",
      "|Alice Through the Looking Glass               |\n",
      "|Alice in Wonderland                           |\n",
      "|Charlie and the Chocolate Factory             |\n",
      "|Corpse Bride                                  |\n",
      "+----------------------------------------------+"
     ]
    }
   ],
   "source": [
    "two_join_data = genres.join(movie_actors, on=['tconst'], how='inner') \\\n",
    "                            .filter(genres.titleType=='movie') \\\n",
    "                            .select(genres.primaryTitle, genres.titleType, movie_actors.nconst, genres.startYear)\n",
    "three_join_data = two_join_data.join(actors,on=['nconst'], how='inner')\n",
    "\n",
    "Johnny_Depp_movie = three_join_data.filter(three_join_data.primaryName =='Johnny Depp').select('primaryTitle', 'primaryName')                           \n",
    "Helena_Bonham_Carter_movie = three_join_data.filter(three_join_data.primaryName =='Helena Bonham Carter').select('primaryTitle', 'primaryName')     \n",
    "\n",
    "data = Helena_Bonham_Carter_movie.join(Johnny_Depp_movie,Johnny_Depp_movie.primaryTitle == Helena_Bonham_Carter_movie.primaryTitle).select(Helena_Bonham_Carter_movie.primaryTitle)\n",
    "data.show(truncate=False)\n",
    "\n",
    "\n",
    "\n"
   ]
  },
  {
   "cell_type": "markdown",
   "id": "39452206",
   "metadata": {},
   "source": [
    "## 2) Find all the \"movies\" featuring \"Brad Pitt\" after 2010."
   ]
  },
  {
   "cell_type": "code",
   "execution_count": 33,
   "id": "31827f41",
   "metadata": {},
   "outputs": [
    {
     "data": {
      "application/vnd.jupyter.widget-view+json": {
       "model_id": "69ce6096b9ca490ebda117cd02b36ff2",
       "version_major": 2,
       "version_minor": 0
      },
      "text/plain": [
       "VBox()"
      ]
     },
     "metadata": {},
     "output_type": "display_data"
    },
    {
     "data": {
      "application/vnd.jupyter.widget-view+json": {
       "model_id": "",
       "version_major": 2,
       "version_minor": 0
      },
      "text/plain": [
       "FloatProgress(value=0.0, bar_style='info', description='Progress:', layout=Layout(height='25px', width='50%'),…"
      ]
     },
     "metadata": {},
     "output_type": "display_data"
    },
    {
     "name": "stdout",
     "output_type": "stream",
     "text": [
      "+---------+-------------+---------+---------+----------------+---------+---------+--------------------+--------------------+\n",
      "|   nconst| primaryTitle|titleType|startYear|     primaryName|birthYear|deathYear|   primaryProfession|      knownForTitles|\n",
      "+---------+-------------+---------+---------+----------------+---------+---------+--------------------+--------------------+\n",
      "|nm0000059|Three Sisters|    movie|     1970|Laurence Olivier|     1907|     1989|actor,producer,di...|tt0069281,tt00404...|\n",
      "+---------+-------------+---------+---------+----------------+---------+---------+--------------------+--------------------+\n",
      "only showing top 1 row"
     ]
    }
   ],
   "source": [
    "three_join_data.show(1)"
   ]
  },
  {
   "cell_type": "code",
   "execution_count": 34,
   "id": "1a42cab4",
   "metadata": {},
   "outputs": [
    {
     "data": {
      "application/vnd.jupyter.widget-view+json": {
       "model_id": "47a96fa8df1b49e1b5ee59eb0d038191",
       "version_major": 2,
       "version_minor": 0
      },
      "text/plain": [
       "VBox()"
      ]
     },
     "metadata": {},
     "output_type": "display_data"
    },
    {
     "data": {
      "application/vnd.jupyter.widget-view+json": {
       "model_id": "",
       "version_major": 2,
       "version_minor": 0
      },
      "text/plain": [
       "FloatProgress(value=0.0, bar_style='info', description='Progress:', layout=Layout(height='25px', width='50%'),…"
      ]
     },
     "metadata": {},
     "output_type": "display_data"
    },
    {
     "name": "stdout",
     "output_type": "stream",
     "text": [
      "+---------------------------------+---------+\n",
      "|primaryTitle                     |startYear|\n",
      "+---------------------------------+---------+\n",
      "|Moneyball                        |2011     |\n",
      "|The Tree of Life                 |2011     |\n",
      "|Killing Them Softly              |2012     |\n",
      "|Kick-Ass 2                       |2013     |\n",
      "|12 Years a Slave                 |2013     |\n",
      "|World War Z                      |2013     |\n",
      "|Fury                             |2014     |\n",
      "|By the Sea                       |2015     |\n",
      "|The Big Short                    |2015     |\n",
      "|Hitting the Apex                 |2015     |\n",
      "|Allied                           |2016     |\n",
      "|Voyage of Time: Life's Journey   |2016     |\n",
      "|War Machine                      |2017     |\n",
      "|Vice                             |2018     |\n",
      "|The King                         |2019     |\n",
      "|Ad Astra                         |2019     |\n",
      "|Once Upon a Time ... in Hollywood|2019     |\n",
      "|Irresistible                     |2020     |\n",
      "|Kajillionaire                    |2020     |\n",
      "|Babylon                          |2021     |\n",
      "+---------------------------------+---------+"
     ]
    }
   ],
   "source": [
    "Brad_Pitt_movie = three_join_data.filter(three_join_data.primaryName =='Brad Pitt') \\\n",
    "                                 .filter(three_join_data.startYear > 2010) \\\n",
    "                                 .select('primaryTitle', 'startYear') \\\n",
    "                                 .orderBy(three_join_data.startYear.asc()) \\\n",
    "                                 .show(truncate=False)"
   ]
  },
  {
   "cell_type": "markdown",
   "id": "67fc41d2",
   "metadata": {},
   "source": [
    "## 3) What is the number of \"movies\" \"acted\" by \"Zendaya\" per year?"
   ]
  },
  {
   "cell_type": "code",
   "execution_count": 35,
   "id": "c605ce7b",
   "metadata": {},
   "outputs": [
    {
     "data": {
      "application/vnd.jupyter.widget-view+json": {
       "model_id": "f63a8e58652c4ab0b369b96269dc8ebf",
       "version_major": 2,
       "version_minor": 0
      },
      "text/plain": [
       "VBox()"
      ]
     },
     "metadata": {},
     "output_type": "display_data"
    },
    {
     "data": {
      "application/vnd.jupyter.widget-view+json": {
       "model_id": "",
       "version_major": 2,
       "version_minor": 0
      },
      "text/plain": [
       "FloatProgress(value=0.0, bar_style='info', description='Progress:', layout=Layout(height='25px', width='50%'),…"
      ]
     },
     "metadata": {},
     "output_type": "display_data"
    },
    {
     "name": "stdout",
     "output_type": "stream",
     "text": [
      "+---------+-----+\n",
      "|startYear|count|\n",
      "+---------+-----+\n",
      "|2020     |1    |\n",
      "|2018     |2    |\n",
      "|2017     |1    |\n",
      "+---------+-----+"
     ]
    }
   ],
   "source": [
    "Zendaya_movie = three_join_data.filter(three_join_data.primaryName =='Zendaya') \\\n",
    "                               .filter(three_join_data.startYear!='\\\\N') \\\n",
    "                               .select('primaryTitle', 'startYear') \\\n",
    "                               .groupBy(three_join_data.startYear).count() \\\n",
    "                               .show(truncate=False)                        \n",
    "\n"
   ]
  },
  {
   "cell_type": "markdown",
   "id": "b3fe5091",
   "metadata": {},
   "source": [
    "## 4) What are the \"movies\" by average rating greater than \"9.7\" and released in \"2019\"?"
   ]
  },
  {
   "cell_type": "code",
   "execution_count": null,
   "id": "4438cc01",
   "metadata": {},
   "outputs": [],
   "source": [
    "\n"
   ]
  },
  {
   "cell_type": "code",
   "execution_count": 36,
   "id": "366703ab",
   "metadata": {},
   "outputs": [
    {
     "data": {
      "application/vnd.jupyter.widget-view+json": {
       "model_id": "cc2c6d1c4a2b4ce8b6f13e6288784aa5",
       "version_major": 2,
       "version_minor": 0
      },
      "text/plain": [
       "VBox()"
      ]
     },
     "metadata": {},
     "output_type": "display_data"
    },
    {
     "data": {
      "application/vnd.jupyter.widget-view+json": {
       "model_id": "",
       "version_major": 2,
       "version_minor": 0
      },
      "text/plain": [
       "FloatProgress(value=0.0, bar_style='info', description='Progress:', layout=Layout(height='25px', width='50%'),…"
      ]
     },
     "metadata": {},
     "output_type": "display_data"
    },
    {
     "name": "stdout",
     "output_type": "stream",
     "text": [
      "+-------------------------------------------------+-------------+\n",
      "|primaryTitle                                     |averageRating|\n",
      "+-------------------------------------------------+-------------+\n",
      "|The Twilight Zone: A 60th Anniversary Celebration|10.0         |\n",
      "|Our Scripted Life                                |10.0         |\n",
      "|Kirket                                           |10.0         |\n",
      "|L'Enfant Terrible                                |10.0         |\n",
      "|The Butcher Baronet                              |10.0         |\n",
      "|A Medicine for the Mind                          |10.0         |\n",
      "|A Grunt's Life                                   |10.0         |\n",
      "|Bu Can Var Oldugu Sürece                         |10.0         |\n",
      "|Love in Kilnerry                                 |10.0         |\n",
      "|The Cardinal                                     |9.9          |\n",
      "|Superhombre                                      |9.9          |\n",
      "|Puritan: All of Life to The Glory of God         |9.9          |\n",
      "|Randhawa                                         |9.8          |\n",
      "|From Shock to Awe                                |9.8          |\n",
      "|Square One                                       |9.8          |\n",
      "|Kamen Rider Zi-O: Over Quartzer                  |9.8          |\n",
      "|Gini Helida Kathe                                |9.8          |\n",
      "|We Shall Not Die Now                             |9.8          |\n",
      "|Time and motion                                  |9.8          |\n",
      "+-------------------------------------------------+-------------+"
     ]
    }
   ],
   "source": [
    "ratings = movie_ratings.withColumn(\"averageRating\", col(\"averageRating\").cast(\"float\")) \\\n",
    "                      .sort(\"averageRating\", ascending=False) \n",
    "                      \n",
    "ratings = ratings.filter(ratings.averageRating > 9.7 )\n",
    "\n",
    "genres_select = genres.withColumn(\"genres\",explode(split(\"genres\", \",\"))) \\\n",
    "                      .withColumn(\"startYear\", col(\"startYear\").cast(\"int\")) \\\n",
    "                      .filter(genres.genres!='\\\\N') \\\n",
    "                     .filter(genres.titleType =='movie')                                              \n",
    "                                                \n",
    "genres_select = genres_select.filter(genres_select.startYear == 2019)    \n",
    "\n",
    "\n",
    "\n",
    "genres_join_movie_rating = genres_select.join(ratings, on=['tconst'], how='inner')\n",
    "                                        \n",
    "genres_join_movie_rating.select('primaryTitle', 'averageRating') \\\n",
    "                        .distinct() \\\n",
    "                        .sort(\"averageRating\", ascending=False) \\\n",
    "                        .show(truncate=False)                      \n",
    "                                 \n"
   ]
  },
  {
   "cell_type": "code",
   "execution_count": null,
   "id": "866e8aa1",
   "metadata": {},
   "outputs": [],
   "source": []
  },
  {
   "cell_type": "markdown",
   "id": "a33b20a6",
   "metadata": {},
   "source": [
    "## Extra Credit - 1\n",
    "\n",
    "Try and analyze some interesting dimension to this data. You should specify the question in your Project2_Analysis.ipynb. \n",
    "\n",
    "You must join at least two datasets.\n"
   ]
  },
  {
   "cell_type": "code",
   "execution_count": 37,
   "id": "0edf3984",
   "metadata": {},
   "outputs": [
    {
     "data": {
      "application/vnd.jupyter.widget-view+json": {
       "model_id": "d0b169b824b8435385d6cc0fa93e87db",
       "version_major": 2,
       "version_minor": 0
      },
      "text/plain": [
       "VBox()"
      ]
     },
     "metadata": {},
     "output_type": "display_data"
    },
    {
     "data": {
      "application/vnd.jupyter.widget-view+json": {
       "model_id": "",
       "version_major": 2,
       "version_minor": 0
      },
      "text/plain": [
       "FloatProgress(value=0.0, bar_style='info', description='Progress:', layout=Layout(height='25px', width='50%'),…"
      ]
     },
     "metadata": {},
     "output_type": "display_data"
    },
    {
     "name": "stdout",
     "output_type": "stream",
     "text": [
      "+-------------------------------------------------+-------------+\n",
      "|primaryTitle                                     |averageRating|\n",
      "+-------------------------------------------------+-------------+\n",
      "|Our Scripted Life                                |10.0         |\n",
      "|Love in Kilnerry                                 |10.0         |\n",
      "|A Medicine for the Mind                          |10.0         |\n",
      "|Girls Loving Girls                               |10.0         |\n",
      "|The Butcher Baronet                              |10.0         |\n",
      "|Petersburg's tram                                |10.0         |\n",
      "|The Twilight Zone: A 60th Anniversary Celebration|10.0         |\n",
      "|The Maltese Phallus                              |10.0         |\n",
      "|Filthy Frank Final Full Lore Movie               |10.0         |\n",
      "|Callao                                           |10.0         |\n",
      "|Centro de Dia                                    |10.0         |\n",
      "|Bu Can Var Oldugu Sürece                         |10.0         |\n",
      "|Yellow Scare                                     |10.0         |\n",
      "|Running 4 President                              |10.0         |\n",
      "|A Grunt's Life                                   |10.0         |\n",
      "|Kirket                                           |10.0         |\n",
      "|L'Enfant Terrible                                |10.0         |\n",
      "|The Cardinal                                     |9.9          |\n",
      "|Puritan: All of Life to The Glory of God         |9.9          |\n",
      "|Home                                             |9.9          |\n",
      "+-------------------------------------------------+-------------+\n",
      "only showing top 20 rows"
     ]
    }
   ],
   "source": [
    "movie_ratings = movie_ratings.withColumn(\"averageRating\", col(\"averageRating\").cast(\"float\")) \\\n",
    "                      .sort(\"averageRating\", ascending=False) \n",
    "\n",
    "genres = genres.withColumn(\"genres\",explode(split(\"genres\", \",\"))) \\\n",
    "                      .withColumn(\"startYear\", col(\"startYear\").cast(\"int\")) \\\n",
    "                      .filter(genres.genres!='\\\\N') \\\n",
    "                     .filter(genres.titleType =='movie')                                              \n",
    "                                                \n",
    "genres_join_movie_rating = genres.join(movie_ratings, on=['tconst'], how='inner')\n",
    "                                        \n",
    "genres_join_movie_rating.select('primaryTitle', 'averageRating') \\\n",
    "                        .distinct() \\\n",
    "                        .sort(\"averageRating\", ascending=False) \\\n",
    "                        .show(truncate=False)   \n",
    "\n",
    "                                 "
   ]
  },
  {
   "cell_type": "code",
   "execution_count": 38,
   "id": "c7f97c56",
   "metadata": {},
   "outputs": [
    {
     "data": {
      "application/vnd.jupyter.widget-view+json": {
       "model_id": "96eaad0131774dc2857831c35b3665ae",
       "version_major": 2,
       "version_minor": 0
      },
      "text/plain": [
       "VBox()"
      ]
     },
     "metadata": {},
     "output_type": "display_data"
    },
    {
     "data": {
      "application/vnd.jupyter.widget-view+json": {
       "model_id": "",
       "version_major": 2,
       "version_minor": 0
      },
      "text/plain": [
       "FloatProgress(value=0.0, bar_style='info', description='Progress:', layout=Layout(height='25px', width='50%'),…"
      ]
     },
     "metadata": {},
     "output_type": "display_data"
    },
    {
     "name": "stdout",
     "output_type": "stream",
     "text": [
      "Percentage Difference <= 5%: 74800, Percentage: 18.542665483373575%\n",
      "Percentage Difference >5 and <= 6%: 94460, Percentage: 23.416312587693422%\n",
      "Percentage Difference >6 and <= 7%: 135235, Percentage: 33.52429634550836%\n",
      "Percentage Difference >7 and <= 8%: 77258, Percentage: 19.151995319712242%\n",
      "Percentage Difference >8 and <= 9%: 19814, Percentage: 4.911823180315027%\n",
      "Percentage Difference >9 and <= 11%: 1827, Percentage: 0.45290708339737323%"
     ]
    }
   ],
   "source": [
    "\n",
    "total = genres_join_movie_rating.count()\n",
    "\n",
    "less_5 = genres_join_movie_rating.filter(genres_join_movie_rating.averageRating <= 5).count()\n",
    "print(f'Percentage Difference <= 5%: {less_5}, Percentage: {(less_5/total)*100}%')\n",
    "\n",
    "greate_5_less_6 = genres_join_movie_rating.filter(genres_join_movie_rating.averageRating > 5).filter(genres_join_movie_rating.averageRating <= 6).count()\n",
    "print(f'Percentage Difference >5 and <= 6%: {greate_5_less_6}, Percentage: {(greate_5_less_6/total)*100}%')\n",
    "\n",
    "greate_6_less_7 = genres_join_movie_rating.filter(genres_join_movie_rating.averageRating > 6).filter(genres_join_movie_rating.averageRating <= 7).count()\n",
    "print(f'Percentage Difference >6 and <= 7%: {greate_6_less_7}, Percentage: {(greate_6_less_7/total)*100}%')\n",
    "\n",
    "greate_7_less_8 = genres_join_movie_rating.filter(genres_join_movie_rating.averageRating > 7).filter(genres_join_movie_rating.averageRating <= 8).count()\n",
    "print(f'Percentage Difference >7 and <= 8%: {greate_7_less_8}, Percentage: {(greate_7_less_8/total)*100}%')\n",
    "\n",
    "greate_8_less_9 = genres_join_movie_rating.filter(genres_join_movie_rating.averageRating > 8).filter(genres_join_movie_rating.averageRating <= 9).count()\n",
    "print(f'Percentage Difference >8 and <= 9%: {greate_8_less_9}, Percentage: {(greate_8_less_9/total)*100}%')\n",
    "\n",
    "greate_9_less_11 = genres_join_movie_rating.filter(genres_join_movie_rating.averageRating > 9).filter(genres_join_movie_rating.averageRating <= 11).count()\n",
    "print(f'Percentage Difference >9 and <= 11%: {greate_9_less_11}, Percentage: {(greate_9_less_11/total)*100}%')\n"
   ]
  },
  {
   "cell_type": "code",
   "execution_count": 39,
   "id": "fe9e589f",
   "metadata": {},
   "outputs": [
    {
     "data": {
      "application/vnd.jupyter.widget-view+json": {
       "model_id": "3a6fbbcbc2394262b43b43fda6e1d057",
       "version_major": 2,
       "version_minor": 0
      },
      "text/plain": [
       "VBox()"
      ]
     },
     "metadata": {},
     "output_type": "display_data"
    },
    {
     "data": {
      "application/vnd.jupyter.widget-view+json": {
       "model_id": "",
       "version_major": 2,
       "version_minor": 0
      },
      "text/plain": [
       "FloatProgress(value=0.0, bar_style='info', description='Progress:', layout=Layout(height='25px', width='50%'),…"
      ]
     },
     "metadata": {},
     "output_type": "display_data"
    },
    {
     "name": "stdout",
     "output_type": "stream",
     "text": [
      "+------------------------------+-------------------+\n",
      "|AverageRating_Percentage_Range|         Percentage|\n",
      "+------------------------------+-------------------+\n",
      "|                         [0,5]| 18.542665483373575|\n",
      "|                         (5,6]| 23.416312587693422|\n",
      "|                         (6,7]|  33.52429634550836|\n",
      "|                         (7,8]| 19.151995319712242|\n",
      "|                         (8,9)|  4.911823180315027|\n",
      "|                        (9,11)|0.45290708339737323|\n",
      "+------------------------------+-------------------+"
     ]
    }
   ],
   "source": [
    "df_averageRating_Percentage = spark.createDataFrame(\n",
    "    [\n",
    "        ('[0,5]', (less_5/total)*100), \n",
    "        ('(5,6]', (greate_5_less_6/total)*100),\n",
    "        ('(6,7]', (greate_6_less_7/total)*100),\n",
    "        ('(7,8]', (greate_7_less_8/total)*100),\n",
    "        ('(8,9)', (greate_8_less_9/total)*100),\n",
    "        ('(9,11)', (greate_9_less_11/total)*100),\n",
    "    ],\n",
    "    ['AverageRating_Percentage_Range', 'Percentage'] \n",
    ")\n",
    "\n",
    "df_averageRating_Percentage.show()"
   ]
  },
  {
   "cell_type": "code",
   "execution_count": 40,
   "id": "caba7de8",
   "metadata": {},
   "outputs": [
    {
     "data": {
      "application/vnd.jupyter.widget-view+json": {
       "model_id": "e2855ba1e1504966b95f80e2295e4ccf",
       "version_major": 2,
       "version_minor": 0
      },
      "text/plain": [
       "VBox()"
      ]
     },
     "metadata": {},
     "output_type": "display_data"
    },
    {
     "data": {
      "application/vnd.jupyter.widget-view+json": {
       "model_id": "",
       "version_major": 2,
       "version_minor": 0
      },
      "text/plain": [
       "FloatProgress(value=0.0, bar_style='info', description='Progress:', layout=Layout(height='25px', width='50%'),…"
      ]
     },
     "metadata": {},
     "output_type": "display_data"
    }
   ],
   "source": [
    "df_averageRating_Percentage_pandas = df_averageRating_Percentage.toPandas()\n",
    "df_averageRating_Percentage_pandas = df_averageRating_Percentage_pandas.set_index('AverageRating_Percentage_Range')"
   ]
  },
  {
   "cell_type": "code",
   "execution_count": 41,
   "id": "7f19d9fc",
   "metadata": {},
   "outputs": [
    {
     "data": {
      "application/vnd.jupyter.widget-view+json": {
       "model_id": "2ba34de460a446269688483426de8174",
       "version_major": 2,
       "version_minor": 0
      },
      "text/plain": [
       "VBox()"
      ]
     },
     "metadata": {},
     "output_type": "display_data"
    },
    {
     "data": {
      "application/vnd.jupyter.widget-view+json": {
       "model_id": "",
       "version_major": 2,
       "version_minor": 0
      },
      "text/plain": [
       "FloatProgress(value=0.0, bar_style='info', description='Progress:', layout=Layout(height='25px', width='50%'),…"
      ]
     },
     "metadata": {},
     "output_type": "display_data"
    },
    {
     "data": {
      "image/png": "[encoded data removed]",
      "text/plain": [
       "<IPython.core.display.Image object>"
      ]
     },
     "metadata": {},
     "output_type": "display_data"
    }
   ],
   "source": [
    "df_averageRating_Percentage_pandas.plot.barh().invert_yaxis()\n",
    "plt.title('Movie Rating Range',fontsize=30)\n",
    "plt.xlabel('Percentage',fontsize=25)\n",
    "plt.ylabel('AverageRating Percentage Range',fontsize=25)\n",
    "plt.xticks(fontsize=20)\n",
    "plt.yticks(fontsize=20)\n",
    "%matplot plt"
   ]
  },
  {
   "cell_type": "markdown",
   "id": "5637a3be",
   "metadata": {},
   "source": [
    "## Extra Credit - 2"
   ]
  },
  {
   "cell_type": "code",
   "execution_count": 42,
   "id": "8e069221",
   "metadata": {},
   "outputs": [
    {
     "data": {
      "application/vnd.jupyter.widget-view+json": {
       "model_id": "d036467788f142b3bf13e84d940801e2",
       "version_major": 2,
       "version_minor": 0
      },
      "text/plain": [
       "VBox()"
      ]
     },
     "metadata": {},
     "output_type": "display_data"
    },
    {
     "data": {
      "application/vnd.jupyter.widget-view+json": {
       "model_id": "",
       "version_major": 2,
       "version_minor": 0
      },
      "text/plain": [
       "FloatProgress(value=0.0, bar_style='info', description='Progress:', layout=Layout(height='25px', width='50%'),…"
      ]
     },
     "metadata": {},
     "output_type": "display_data"
    }
   ],
   "source": [
    "actors_movie = (actors.join(movie_actors, on=['nconst'], how='inner')).join(genres, on=['tconst'], how='inner' ) \\\n",
    "                      .withColumn(\"startYear\", col(\"startYear\").cast(\"int\"))\n",
    "\n"
   ]
  },
  {
   "cell_type": "code",
   "execution_count": 43,
   "id": "45d8fc34",
   "metadata": {},
   "outputs": [
    {
     "data": {
      "application/vnd.jupyter.widget-view+json": {
       "model_id": "73802669d964457ab28c2016e91d46b4",
       "version_major": 2,
       "version_minor": 0
      },
      "text/plain": [
       "VBox()"
      ]
     },
     "metadata": {},
     "output_type": "display_data"
    },
    {
     "data": {
      "application/vnd.jupyter.widget-view+json": {
       "model_id": "",
       "version_major": 2,
       "version_minor": 0
      },
      "text/plain": [
       "FloatProgress(value=0.0, bar_style='info', description='Progress:', layout=Layout(height='25px', width='50%'),…"
      ]
     },
     "metadata": {},
     "output_type": "display_data"
    },
    {
     "name": "stdout",
     "output_type": "stream",
     "text": [
      "+-----------------------------------------------+---------+\n",
      "|primaryTitle                                   |startYear|\n",
      "+-----------------------------------------------+---------+\n",
      "|Stefan Arngrim - On Giants and Feeding Darkness|2019     |\n",
      "|Off the Rez                                    |2011     |\n",
      "|Muhammad Ali's Greatest Fight                  |2013     |\n",
      "|The Bloody Rise of Axis Video                  |2014     |\n",
      "|Born River Bye                                 |2017     |\n",
      "|P.A.I.N.                                       |2018     |\n",
      "|O Mein Gott                                    |2018     |\n",
      "|When I Walk                                    |2013     |\n",
      "|Vampire                                        |2011     |\n",
      "|Finding Me: Truth                              |2011     |\n",
      "|In April the Following Year, There Was a Fire  |2012     |\n",
      "|Express Raja                                   |2016     |\n",
      "|The Unknown Mountaineer                        |2018     |\n",
      "|The Mirror of the Muse: My Pretty Doll         |2012     |\n",
      "|Daily Lives of High School Boys                |2013     |\n",
      "|Broken Eggs Film                               |2013     |\n",
      "|La lune est tombée                             |2015     |\n",
      "|The Traveler: The Missing Link                 |2014     |\n",
      "|Africa Rising                                  |2011     |\n",
      "|Flash                                          |2018     |\n",
      "+-----------------------------------------------+---------+\n",
      "only showing top 20 rows"
     ]
    }
   ],
   "source": [
    "actors_movie_1 = actors_movie.select('primaryTitle','startYear') \\\n",
    "                            .filter(actors_movie.startYear > 2010) \\\n",
    "                            .filter(actors_movie.startYear < 2020) \\\n",
    "                            .distinct()\n",
    "                            \n",
    "actors_movie_1.show(truncate=False)\n",
    "\n"
   ]
  },
  {
   "cell_type": "code",
   "execution_count": 44,
   "id": "2dd4f6b7",
   "metadata": {},
   "outputs": [
    {
     "data": {
      "application/vnd.jupyter.widget-view+json": {
       "model_id": "4b3748b4f38444dd8730d2a138302368",
       "version_major": 2,
       "version_minor": 0
      },
      "text/plain": [
       "VBox()"
      ]
     },
     "metadata": {},
     "output_type": "display_data"
    },
    {
     "data": {
      "application/vnd.jupyter.widget-view+json": {
       "model_id": "",
       "version_major": 2,
       "version_minor": 0
      },
      "text/plain": [
       "FloatProgress(value=0.0, bar_style='info', description='Progress:', layout=Layout(height='25px', width='50%'),…"
      ]
     },
     "metadata": {},
     "output_type": "display_data"
    },
    {
     "name": "stdout",
     "output_type": "stream",
     "text": [
      "+---------+------------------+\n",
      "|startYear|count_primaryTitle|\n",
      "+---------+------------------+\n",
      "|     2018| 907.8599999999999|\n",
      "|     2011|          Infinity|\n",
      "|     2017|           1069.45|\n",
      "|     2013|1023.0240526315789|\n",
      "|     2015| 919.5238095238095|\n",
      "|     2014|1055.0396428571428|\n",
      "|     2012| 547.4615384615385|\n",
      "|     2016| 3793.777272727273|\n",
      "|     2019|1171.9766666666667|\n",
      "+---------+------------------+"
     ]
    }
   ],
   "source": [
    "actors_movie_2=actors_movie_1.groupBy(['startYear']) \\\n",
    "                          .agg(mean('primaryTitle').alias('count_primaryTitle')) \n",
    "actors_movie_2.show()\n"
   ]
  },
  {
   "cell_type": "code",
   "execution_count": 46,
   "id": "5417306d",
   "metadata": {},
   "outputs": [
    {
     "data": {
      "application/vnd.jupyter.widget-view+json": {
       "model_id": "9ca3c6b1024445948e28ad4979e9857a",
       "version_major": 2,
       "version_minor": 0
      },
      "text/plain": [
       "VBox()"
      ]
     },
     "metadata": {},
     "output_type": "display_data"
    },
    {
     "data": {
      "application/vnd.jupyter.widget-view+json": {
       "model_id": "",
       "version_major": 2,
       "version_minor": 0
      },
      "text/plain": [
       "FloatProgress(value=0.0, bar_style='info', description='Progress:', layout=Layout(height='25px', width='50%'),…"
      ]
     },
     "metadata": {},
     "output_type": "display_data"
    },
    {
     "data": {
      "image/png": "[encoded data removed]",
      "text/plain": [
       "<IPython.core.display.Image object>"
      ]
     },
     "metadata": {},
     "output_type": "display_data"
    }
   ],
   "source": [
    "actors_movie1_all = actors_movie_2.sort(\"startYear\", ascending=False).toPandas().set_index('startYear')\n",
    "\n",
    "# plot\n",
    "actors_movie1_all.plot.barh().invert_yaxis()\n",
    "plt.title('Top movie in the year Calegory')\n",
    "plt.xlabel(\"Average rating\")\n",
    "plt.ylabel(\"PrimaryTitle\")\n",
    "plt.xlim(500, 3800)\n",
    "plt.rcParams[\"figure.figsize\"] = [20, 8]\n",
    "\n",
    "%matplot plt"
   ]
  },
  {
   "cell_type": "code",
   "execution_count": null,
   "id": "3cf5459c",
   "metadata": {},
   "outputs": [],
   "source": []
  }
 ],
 "metadata": {
  "kernelspec": {
   "display_name": "PySpark",
   "language": "",
   "name": "pysparkkernel"
  },
  "language_info": {
   "codemirror_mode": {
    "name": "python",
    "version": 2
   },
   "mimetype": "text/x-python",
   "name": "pyspark",
   "pygments_lexer": "python2"
  }
 },
 "nbformat": 4,
 "nbformat_minor": 5
}
